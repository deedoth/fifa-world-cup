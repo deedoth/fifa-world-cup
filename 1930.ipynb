{
 "cells": [
  {
   "cell_type": "code",
   "execution_count": 1,
   "id": "a8583f7a",
   "metadata": {},
   "outputs": [],
   "source": [
    "import pandas as pd\n",
    "import numpy as np\n",
    "import seaborn as sb\n",
    "import matplotlib.pyplot as plt\n",
    "%matplotlib inline\n",
    "\n",
    "import requests"
   ]
  },
  {
   "cell_type": "code",
   "execution_count": 2,
   "id": "5e7f644f",
   "metadata": {},
   "outputs": [],
   "source": [
    "from bs4 import BeautifulSoup"
   ]
  },
  {
   "cell_type": "code",
   "execution_count": 4,
   "id": "7394e3da",
   "metadata": {},
   "outputs": [],
   "source": [
    "#load the web\n",
    "web = 'https://en.wikipedia.org/wiki/1930_FIFA_World_Cup'"
   ]
  },
  {
   "cell_type": "code",
   "execution_count": 5,
   "id": "1e3fb425",
   "metadata": {},
   "outputs": [],
   "source": [
    "#request to fetch the website\n",
    "response = requests.get(web)"
   ]
  },
  {
   "cell_type": "code",
   "execution_count": 6,
   "id": "3c629f34",
   "metadata": {},
   "outputs": [],
   "source": [
    "content = response.text"
   ]
  },
  {
   "cell_type": "code",
   "execution_count": 7,
   "id": "679b4a68",
   "metadata": {},
   "outputs": [],
   "source": [
    "#beautiful soap to scrape the data with lxml passer\n",
    "soup = BeautifulSoup(content, 'lxml')"
   ]
  },
  {
   "cell_type": "code",
   "execution_count": 8,
   "id": "95f46db6",
   "metadata": {},
   "outputs": [],
   "source": [
    "#find a pattern\n",
    "table = soup.find('tr', {'style':'background:gold'})"
   ]
  },
  {
   "cell_type": "code",
   "execution_count": 9,
   "id": "2dee4885",
   "metadata": {},
   "outputs": [],
   "source": [
    "#fetch the specific data\n",
    "sn = table.find('td')\n",
    "team_ = sn.find_next_sibling('td')\n",
    "team = team_.text[1:]\n",
    "group_ = team_.find_next_sibling('td')\n",
    "group = group_.text\n",
    "#print(group)\n",
    "total_game_played_ = group_.find_next_sibling('td')\n",
    "total_game_played = total_game_played_.text\n",
    "win_ = total_game_played_.find_next_sibling('td')\n",
    "win = win_.text\n",
    "draw_ = win_.find_next_sibling('td')\n",
    "draw = draw_.text\n",
    "loss_ = draw_.find_next_sibling('td')\n",
    "loss = loss_.text\n",
    "points_ = loss_.find_next_sibling('td')\n",
    "points = points_.text\n",
    "total_goals_scored_ = points_.find_next_sibling('td')\n",
    "total_goals_scored = total_goals_scored_.text\n",
    "total_goals_conceded_ = total_goals_scored_.find_next_sibling('td')\n",
    "total_goals_conceded = total_goals_conceded_.text[1:]\n",
    "goal_diff_ = total_goals_conceded_.find_next_sibling('td')\n",
    "goal_diff = goal_diff_.text[:-1]"
   ]
  },
  {
   "cell_type": "markdown",
   "id": "d69ebd6f",
   "metadata": {},
   "source": [
    "### Awards"
   ]
  },
  {
   "cell_type": "code",
   "execution_count": 10,
   "id": "96dca812",
   "metadata": {},
   "outputs": [],
   "source": [
    "#golden_ball = soup.find('a', attrs= {'title': 'Lionel Messi'}).text\n",
    "#golden_ball = soup.find('a', attrs= {'title': 'Lionel Messi'}).text\n",
    "#golden_boot = soup.find('a', attrs= {'title': 'James Rodríguez'}).text\n",
    "#golden_glove = soup.find('a', attrs= {'title': 'Manuel Neuer'}).text"
   ]
  },
  {
   "cell_type": "markdown",
   "id": "5d6e34f6",
   "metadata": {},
   "source": [
    "### Refree That Blew Final"
   ]
  },
  {
   "cell_type": "code",
   "execution_count": 11,
   "id": "c014ac74",
   "metadata": {},
   "outputs": [
    {
     "data": {
      "text/plain": [
       "'John Langenus'"
      ]
     },
     "execution_count": 11,
     "metadata": {},
     "output_type": "execute_result"
    }
   ],
   "source": [
    "refree = soup.find('a', attrs= {'title': 'John Langenus'}).text\n",
    "refree"
   ]
  },
  {
   "cell_type": "markdown",
   "id": "c7da9dba",
   "metadata": {},
   "source": [
    "### World Cup Year"
   ]
  },
  {
   "cell_type": "code",
   "execution_count": 12,
   "id": "c922e8f7",
   "metadata": {},
   "outputs": [
    {
     "data": {
      "text/plain": [
       "'1930'"
      ]
     },
     "execution_count": 12,
     "metadata": {},
     "output_type": "execute_result"
    }
   ],
   "source": [
    "year = soup.find('span', {'class':\"mw-page-title-main\"}).text\n",
    "year = year[:4]\n",
    "year"
   ]
  },
  {
   "cell_type": "markdown",
   "id": "3efbc175",
   "metadata": {},
   "source": [
    "### Host Country"
   ]
  },
  {
   "cell_type": "code",
   "execution_count": 13,
   "id": "7a50d96d",
   "metadata": {},
   "outputs": [
    {
     "data": {
      "text/plain": [
       "'Uruguay'"
      ]
     },
     "execution_count": 13,
     "metadata": {},
     "output_type": "execute_result"
    }
   ],
   "source": [
    "host = soup.find('a', {'title':\"Uruguay national football team\"}).text\n",
    "host"
   ]
  },
  {
   "cell_type": "code",
   "execution_count": null,
   "id": "1743885c",
   "metadata": {},
   "outputs": [],
   "source": []
  },
  {
   "cell_type": "code",
   "execution_count": null,
   "id": "30113a7b",
   "metadata": {},
   "outputs": [],
   "source": []
  },
  {
   "cell_type": "markdown",
   "id": "ef6b48d9",
   "metadata": {},
   "source": [
    "### Runner Up Team"
   ]
  },
  {
   "cell_type": "code",
   "execution_count": 14,
   "id": "e79e6016",
   "metadata": {},
   "outputs": [],
   "source": [
    "runner_up_team = soup.find('tr', {'style':'background:silver'})"
   ]
  },
  {
   "cell_type": "code",
   "execution_count": 15,
   "id": "4107117b",
   "metadata": {},
   "outputs": [
    {
     "data": {
      "text/plain": [
       "'Argentina'"
      ]
     },
     "execution_count": 15,
     "metadata": {},
     "output_type": "execute_result"
    }
   ],
   "source": [
    "runner_up = runner_up_team.find('a', {'title':'Argentina national football team'}).text\n",
    "runner_up"
   ]
  },
  {
   "cell_type": "code",
   "execution_count": null,
   "id": "efbbd5e3",
   "metadata": {},
   "outputs": [],
   "source": []
  },
  {
   "cell_type": "code",
   "execution_count": null,
   "id": "7950cb10",
   "metadata": {},
   "outputs": [],
   "source": []
  },
  {
   "cell_type": "markdown",
   "id": "0ccd36bb",
   "metadata": {},
   "source": [
    "### Attendance "
   ]
  },
  {
   "cell_type": "code",
   "execution_count": 16,
   "id": "8622bbfb",
   "metadata": {},
   "outputs": [],
   "source": [
    "attendance = 68346"
   ]
  },
  {
   "cell_type": "code",
   "execution_count": 17,
   "id": "97446303",
   "metadata": {
    "scrolled": true
   },
   "outputs": [
    {
     "data": {
      "text/html": [
       "<div>\n",
       "<style scoped>\n",
       "    .dataframe tbody tr th:only-of-type {\n",
       "        vertical-align: middle;\n",
       "    }\n",
       "\n",
       "    .dataframe tbody tr th {\n",
       "        vertical-align: top;\n",
       "    }\n",
       "\n",
       "    .dataframe thead th {\n",
       "        text-align: right;\n",
       "    }\n",
       "</style>\n",
       "<table border=\"1\" class=\"dataframe\">\n",
       "  <thead>\n",
       "    <tr style=\"text-align: right;\">\n",
       "      <th></th>\n",
       "      <th>Team</th>\n",
       "      <th>G</th>\n",
       "      <th>Pld</th>\n",
       "      <th>W</th>\n",
       "      <th>D</th>\n",
       "      <th>L</th>\n",
       "      <th>Pts</th>\n",
       "      <th>GF</th>\n",
       "      <th>GA</th>\n",
       "      <th>GD</th>\n",
       "      <th>Golden Ball</th>\n",
       "      <th>Golden Boot</th>\n",
       "      <th>Golden Glove</th>\n",
       "      <th>Prize</th>\n",
       "      <th>Year</th>\n",
       "      <th>Refree</th>\n",
       "      <th>Host</th>\n",
       "      <th>Runner_up</th>\n",
       "      <th>Attendance</th>\n",
       "    </tr>\n",
       "  </thead>\n",
       "  <tbody>\n",
       "    <tr>\n",
       "      <th>0</th>\n",
       "      <td>Uruguay</td>\n",
       "      <td>3</td>\n",
       "      <td>4</td>\n",
       "      <td>4</td>\n",
       "      <td>0</td>\n",
       "      <td>0</td>\n",
       "      <td>15</td>\n",
       "      <td>3</td>\n",
       "      <td>12</td>\n",
       "      <td>8</td>\n",
       "      <td>NaN</td>\n",
       "      <td>NaN</td>\n",
       "      <td>NaN</td>\n",
       "      <td>NaN</td>\n",
       "      <td>1930</td>\n",
       "      <td>John Langenus</td>\n",
       "      <td>Uruguay</td>\n",
       "      <td>Argentina</td>\n",
       "      <td>68346</td>\n",
       "    </tr>\n",
       "  </tbody>\n",
       "</table>\n",
       "</div>"
      ],
      "text/plain": [
       "      Team  G Pld  W  D  L Pts GF  GA GD  Golden Ball  Golden Boot  \\\n",
       "0  Uruguay  3   4  4  0  0  15  3  12  8          NaN          NaN   \n",
       "\n",
       "   Golden Glove  Prize  Year         Refree     Host  Runner_up  Attendance  \n",
       "0           NaN    NaN  1930  John Langenus  Uruguay  Argentina       68346  "
      ]
     },
     "execution_count": 17,
     "metadata": {},
     "output_type": "execute_result"
    }
   ],
   "source": [
    "winner = {'Team': team, 'G':group, 'Pld':total_game_played, 'W':win, 'D':draw, 'L':loss, 'Pts':points, \n",
    "            'GF':total_goals_scored, 'GA':total_goals_conceded, 'GD':goal_diff, 'Golden Ball': np.nan, \n",
    "            'Golden Boot':np.nan, 'Golden Glove':np.nan, 'Prize': np.nan, 'Year': year, 'Refree':refree, \n",
    "          'Host': host, 'Runner_up':runner_up, 'Attendance':attendance}\n",
    "\n",
    "df_winner = pd.DataFrame(winner, index=[0])\n",
    "df_winner"
   ]
  },
  {
   "cell_type": "code",
   "execution_count": 25,
   "id": "e3a9a6ee",
   "metadata": {},
   "outputs": [],
   "source": [
    "df_winner.to_csv('data/1930.csv', index = False)"
   ]
  },
  {
   "cell_type": "code",
   "execution_count": null,
   "id": "b018b1ac",
   "metadata": {},
   "outputs": [],
   "source": []
  }
 ],
 "metadata": {
  "kernelspec": {
   "display_name": "Python 3 (ipykernel)",
   "language": "python",
   "name": "python3"
  },
  "language_info": {
   "codemirror_mode": {
    "name": "ipython",
    "version": 3
   },
   "file_extension": ".py",
   "mimetype": "text/x-python",
   "name": "python",
   "nbconvert_exporter": "python",
   "pygments_lexer": "ipython3",
   "version": "3.9.12"
  }
 },
 "nbformat": 4,
 "nbformat_minor": 5
}
