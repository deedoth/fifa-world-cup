{
 "cells": [
  {
   "cell_type": "code",
   "execution_count": 1,
   "id": "a8583f7a",
   "metadata": {},
   "outputs": [],
   "source": [
    "import pandas as pd\n",
    "import numpy as np\n",
    "import seaborn as sb\n",
    "import matplotlib.pyplot as plt\n",
    "%matplotlib inline\n",
    "\n",
    "import requests"
   ]
  },
  {
   "cell_type": "code",
   "execution_count": 2,
   "id": "5e7f644f",
   "metadata": {},
   "outputs": [],
   "source": [
    "from bs4 import BeautifulSoup"
   ]
  },
  {
   "cell_type": "code",
   "execution_count": 3,
   "id": "7394e3da",
   "metadata": {},
   "outputs": [],
   "source": [
    "web = 'https://en.wikipedia.org/wiki/1966_FIFA_World_Cup'"
   ]
  },
  {
   "cell_type": "code",
   "execution_count": 4,
   "id": "1e3fb425",
   "metadata": {},
   "outputs": [],
   "source": [
    "response = requests.get(web)"
   ]
  },
  {
   "cell_type": "code",
   "execution_count": 5,
   "id": "3c629f34",
   "metadata": {},
   "outputs": [],
   "source": [
    "content = response.text"
   ]
  },
  {
   "cell_type": "code",
   "execution_count": 6,
   "id": "679b4a68",
   "metadata": {},
   "outputs": [],
   "source": [
    "soup = BeautifulSoup(content, 'lxml')"
   ]
  },
  {
   "cell_type": "code",
   "execution_count": 7,
   "id": "2ec054da",
   "metadata": {},
   "outputs": [],
   "source": [
    "table = soup.find('tr', {'style':'background:gold'})"
   ]
  },
  {
   "cell_type": "code",
   "execution_count": 8,
   "id": "53f20598",
   "metadata": {},
   "outputs": [],
   "source": [
    "sn = table.find('td')\n",
    "team_ = sn.find_next_sibling('td')\n",
    "team = team_.text[1:]\n",
    "group_ = team_.find_next_sibling('td')\n",
    "group = group_.text\n",
    "total_game_played_ = group_.find_next_sibling('td')\n",
    "total_game_played = total_game_played_.text\n",
    "win_ = total_game_played_.find_next_sibling('td')\n",
    "win = win_.text\n",
    "draw_ = win_.find_next_sibling('td')\n",
    "draw = draw_.text\n",
    "loss_ = draw_.find_next_sibling('td')\n",
    "loss = loss_.text\n",
    "points_ = loss_.find_next_sibling('td')\n",
    "points = points_.text\n",
    "total_goals_scored_ = points_.find_next_sibling('td')\n",
    "total_goals_scored = total_goals_scored_.text\n",
    "total_goals_conceded_ = total_goals_scored_.find_next_sibling('td')\n",
    "total_goals_conceded = total_goals_conceded_.text[1:]\n",
    "goal_diff_ = total_goals_conceded_.find_next_sibling('td')\n",
    "goal_diff = goal_diff_.text[:-1]"
   ]
  },
  {
   "cell_type": "code",
   "execution_count": 9,
   "id": "1f12dc6f",
   "metadata": {},
   "outputs": [
    {
     "data": {
      "text/plain": [
       "('England', '1', '6', '5', '1', '0', '11', '3', '8', '11')"
      ]
     },
     "execution_count": 9,
     "metadata": {},
     "output_type": "execute_result"
    }
   ],
   "source": [
    "team, group,total_game_played, win, draw, loss, points, total_goals_scored, total_goals_conceded, goal_diff"
   ]
  },
  {
   "cell_type": "markdown",
   "id": "8565de05",
   "metadata": {},
   "source": [
    "### Runner Up Team"
   ]
  },
  {
   "cell_type": "code",
   "execution_count": 10,
   "id": "012e8304",
   "metadata": {},
   "outputs": [],
   "source": [
    "runner_up_team = soup.find('tr', {'style':'background:silver'})"
   ]
  },
  {
   "cell_type": "code",
   "execution_count": 11,
   "id": "6e39cde9",
   "metadata": {},
   "outputs": [
    {
     "data": {
      "text/plain": [
       "'West Germany'"
      ]
     },
     "execution_count": 11,
     "metadata": {},
     "output_type": "execute_result"
    }
   ],
   "source": [
    "runner_up = runner_up_team.find('a', {'title':'Germany national football team'}).text\n",
    "runner_up"
   ]
  },
  {
   "cell_type": "markdown",
   "id": "4a24c4ff",
   "metadata": {},
   "source": [
    "### Awards"
   ]
  },
  {
   "cell_type": "code",
   "execution_count": 12,
   "id": "5a929fdb",
   "metadata": {},
   "outputs": [],
   "source": [
    "#golden_ball = soup.find('a', attrs= {'title': 'Lionel Messi'}).text\n",
    "#golden_ball = soup.find('a', attrs= {'title': 'Lionel Messi'}).text\n",
    "#golden_boot = soup.find('a', attrs= {'title': 'James Rodríguez'}).text\n",
    "#golden_glove = soup.find('a', attrs= {'title': 'Manuel Neuer'}).text"
   ]
  },
  {
   "cell_type": "markdown",
   "id": "9c4c29d5",
   "metadata": {},
   "source": [
    "### Refree That Blew Final"
   ]
  },
  {
   "cell_type": "code",
   "execution_count": 13,
   "id": "64f13ca6",
   "metadata": {},
   "outputs": [
    {
     "data": {
      "text/plain": [
       "'Gottfried Dienst'"
      ]
     },
     "execution_count": 13,
     "metadata": {},
     "output_type": "execute_result"
    }
   ],
   "source": [
    "refree = soup.find('a', attrs= {'title': 'Gottfried Dienst'}).text\n",
    "#refree = 'William Ling'\n",
    "refree"
   ]
  },
  {
   "cell_type": "markdown",
   "id": "94388b87",
   "metadata": {},
   "source": [
    "### Year"
   ]
  },
  {
   "cell_type": "code",
   "execution_count": 14,
   "id": "4539f5fb",
   "metadata": {},
   "outputs": [
    {
     "data": {
      "text/plain": [
       "'1966'"
      ]
     },
     "execution_count": 14,
     "metadata": {},
     "output_type": "execute_result"
    }
   ],
   "source": [
    "year = soup.find('span', {'class':\"mw-page-title-main\"}).text\n",
    "year = year[:4]\n",
    "year"
   ]
  },
  {
   "cell_type": "markdown",
   "id": "cd07b96e",
   "metadata": {},
   "source": [
    "### Host Country"
   ]
  },
  {
   "cell_type": "code",
   "execution_count": 15,
   "id": "5d89247c",
   "metadata": {},
   "outputs": [
    {
     "data": {
      "text/plain": [
       "'England'"
      ]
     },
     "execution_count": 15,
     "metadata": {},
     "output_type": "execute_result"
    }
   ],
   "source": [
    "#host = soup.find('a', {'title':\"Uruguay national football team\"}).text\n",
    "host = 'England'\n",
    "host"
   ]
  },
  {
   "cell_type": "markdown",
   "id": "965a0f2a",
   "metadata": {},
   "source": [
    "### Prize"
   ]
  },
  {
   "cell_type": "code",
   "execution_count": 16,
   "id": "4e8d37f0",
   "metadata": {},
   "outputs": [],
   "source": [
    "prize = np.nan"
   ]
  },
  {
   "cell_type": "markdown",
   "id": "a15bcd4b",
   "metadata": {},
   "source": [
    "### Attendance"
   ]
  },
  {
   "cell_type": "code",
   "execution_count": 17,
   "id": "7b1dfd7e",
   "metadata": {},
   "outputs": [],
   "source": [
    "Attendance = 96924"
   ]
  },
  {
   "cell_type": "code",
   "execution_count": 18,
   "id": "08be46b7",
   "metadata": {},
   "outputs": [
    {
     "data": {
      "text/html": [
       "<div>\n",
       "<style scoped>\n",
       "    .dataframe tbody tr th:only-of-type {\n",
       "        vertical-align: middle;\n",
       "    }\n",
       "\n",
       "    .dataframe tbody tr th {\n",
       "        vertical-align: top;\n",
       "    }\n",
       "\n",
       "    .dataframe thead th {\n",
       "        text-align: right;\n",
       "    }\n",
       "</style>\n",
       "<table border=\"1\" class=\"dataframe\">\n",
       "  <thead>\n",
       "    <tr style=\"text-align: right;\">\n",
       "      <th></th>\n",
       "      <th>Team</th>\n",
       "      <th>G</th>\n",
       "      <th>Pld</th>\n",
       "      <th>W</th>\n",
       "      <th>D</th>\n",
       "      <th>L</th>\n",
       "      <th>Pts</th>\n",
       "      <th>GF</th>\n",
       "      <th>GA</th>\n",
       "      <th>GD</th>\n",
       "      <th>Golden Ball</th>\n",
       "      <th>Golden Boot</th>\n",
       "      <th>Golden Glove</th>\n",
       "      <th>Prize</th>\n",
       "      <th>Year</th>\n",
       "      <th>Refree</th>\n",
       "      <th>Host</th>\n",
       "      <th>Runner_up</th>\n",
       "      <th>Attendance</th>\n",
       "    </tr>\n",
       "  </thead>\n",
       "  <tbody>\n",
       "    <tr>\n",
       "      <th>0</th>\n",
       "      <td>England</td>\n",
       "      <td>1</td>\n",
       "      <td>6</td>\n",
       "      <td>5</td>\n",
       "      <td>1</td>\n",
       "      <td>0</td>\n",
       "      <td>11</td>\n",
       "      <td>3</td>\n",
       "      <td>8</td>\n",
       "      <td>11</td>\n",
       "      <td>NaN</td>\n",
       "      <td>NaN</td>\n",
       "      <td>NaN</td>\n",
       "      <td>NaN</td>\n",
       "      <td>1966</td>\n",
       "      <td>Gottfried Dienst</td>\n",
       "      <td>England</td>\n",
       "      <td>West Germany</td>\n",
       "      <td>96924</td>\n",
       "    </tr>\n",
       "  </tbody>\n",
       "</table>\n",
       "</div>"
      ],
      "text/plain": [
       "      Team  G Pld  W  D  L Pts GF GA  GD  Golden Ball  Golden Boot  \\\n",
       "0  England  1   6  5  1  0  11  3  8  11          NaN          NaN   \n",
       "\n",
       "   Golden Glove  Prize  Year            Refree     Host     Runner_up  \\\n",
       "0           NaN    NaN  1966  Gottfried Dienst  England  West Germany   \n",
       "\n",
       "   Attendance  \n",
       "0       96924  "
      ]
     },
     "execution_count": 18,
     "metadata": {},
     "output_type": "execute_result"
    }
   ],
   "source": [
    "winner = {'Team': team, 'G':group, 'Pld':total_game_played, 'W':win, 'D':draw, 'L':loss, 'Pts':points, \n",
    "            'GF':total_goals_scored, 'GA':total_goals_conceded, 'GD':goal_diff, 'Golden Ball': np.nan, \n",
    "            'Golden Boot':np.nan, 'Golden Glove':np.nan, 'Prize': prize, 'Year': year, 'Refree':refree, \n",
    "          'Host': host, 'Runner_up':runner_up, 'Attendance':Attendance}\n",
    "df_winner = pd.DataFrame(winner, index=[0])\n",
    "df_winner"
   ]
  },
  {
   "cell_type": "code",
   "execution_count": 19,
   "id": "166048b5",
   "metadata": {},
   "outputs": [],
   "source": [
    "df_winner.to_csv('data/1966.csv', index = False)"
   ]
  },
  {
   "cell_type": "code",
   "execution_count": null,
   "id": "46e06d2c",
   "metadata": {},
   "outputs": [],
   "source": []
  }
 ],
 "metadata": {
  "kernelspec": {
   "display_name": "Python 3 (ipykernel)",
   "language": "python",
   "name": "python3"
  },
  "language_info": {
   "codemirror_mode": {
    "name": "ipython",
    "version": 3
   },
   "file_extension": ".py",
   "mimetype": "text/x-python",
   "name": "python",
   "nbconvert_exporter": "python",
   "pygments_lexer": "ipython3",
   "version": "3.9.12"
  }
 },
 "nbformat": 4,
 "nbformat_minor": 5
}
