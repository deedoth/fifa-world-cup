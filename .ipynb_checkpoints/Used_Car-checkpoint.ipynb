{
 "cells": [
  {
   "cell_type": "markdown",
   "id": "fb61c488",
   "metadata": {},
   "source": [
    "### Objectives"
   ]
  },
  {
   "cell_type": "markdown",
   "id": "37f80d94",
   "metadata": {},
   "source": [
    "1. The highest brand of cars that were sold\n",
    "\n",
    "2. Find the 5 brands that's on demand/ that people purchased\n",
    "\n",
    "3. The most type of fuel car sold\n",
    "\n",
    "4. The biggest city where cars are been sold\n",
    "\n",
    "5. Check if the highest of the cars sold are imported, locally used, or brand new\n",
    "\n",
    "6. Check for the 3 engines that are most popular\n",
    "\n",
    "7. Do people preffer automatic transmission than manual or otherwise?\n",
    "\n",
    "8. Is price of the car affected by the odometer/mileage?\n",
    "\n",
    "9. Did year affect the price?\n",
    "\n",
    "10. Get yearly sales"
   ]
  },
  {
   "cell_type": "code",
   "execution_count": 1,
   "id": "bf5e5024",
   "metadata": {},
   "outputs": [],
   "source": [
    "import pandas as pd                    # Importing package pandas (For Panel Data Analysis)\n",
    "import numpy as np                     # Importing package numpys (For Numerical Analysis)\n",
    "import seaborn as sns                  # Importing seaborn library for interactive visualization\n",
    "import matplotlib.pyplot as plt        # Importing pyplot interface to use matplotlib\n",
    "%matplotlib inline\n",
    "plt.style.use('seaborn')\n",
    "import scipy as sp                     # Importing library for scientific calculations"
   ]
  },
  {
   "cell_type": "code",
   "execution_count": 2,
   "id": "f6480d05",
   "metadata": {},
   "outputs": [],
   "source": [
    "#pass dataset into variable\n",
    "path = r\"C:\\Users\\Deedoth\\Documents\\Data Science\\Projects\\Zacra Project\\Data set\\car_scrape.csv\""
   ]
  },
  {
   "cell_type": "code",
   "execution_count": 3,
   "id": "813bfd97",
   "metadata": {},
   "outputs": [],
   "source": [
    "#read dataset\n",
    "df = pd.read_csv(path)"
   ]
  },
  {
   "cell_type": "code",
   "execution_count": 4,
   "id": "f9e2513b",
   "metadata": {},
   "outputs": [
    {
     "name": "stdout",
     "output_type": "stream",
     "text": [
      "Data Shape: (1451, 10)\n"
     ]
    },
    {
     "data": {
      "text/html": [
       "<div>\n",
       "<style scoped>\n",
       "    .dataframe tbody tr th:only-of-type {\n",
       "        vertical-align: middle;\n",
       "    }\n",
       "\n",
       "    .dataframe tbody tr th {\n",
       "        vertical-align: top;\n",
       "    }\n",
       "\n",
       "    .dataframe thead th {\n",
       "        text-align: right;\n",
       "    }\n",
       "</style>\n",
       "<table border=\"1\" class=\"dataframe\">\n",
       "  <thead>\n",
       "    <tr style=\"text-align: right;\">\n",
       "      <th></th>\n",
       "      <th>title</th>\n",
       "      <th>odometer</th>\n",
       "      <th>location</th>\n",
       "      <th>isimported</th>\n",
       "      <th>engine</th>\n",
       "      <th>transmission</th>\n",
       "      <th>fuel</th>\n",
       "      <th>paint</th>\n",
       "      <th>price</th>\n",
       "      <th>year</th>\n",
       "    </tr>\n",
       "  </thead>\n",
       "  <tbody>\n",
       "    <tr>\n",
       "      <th>0</th>\n",
       "      <td>Toyota Corolla</td>\n",
       "      <td>60127</td>\n",
       "      <td>Lagos</td>\n",
       "      <td>Locally used</td>\n",
       "      <td>4-cylinder(I4)</td>\n",
       "      <td>automatic</td>\n",
       "      <td>petrol</td>\n",
       "      <td>Silver</td>\n",
       "      <td>1995000</td>\n",
       "      <td>2009</td>\n",
       "    </tr>\n",
       "    <tr>\n",
       "      <th>1</th>\n",
       "      <td>Acura MDX</td>\n",
       "      <td>132908</td>\n",
       "      <td>Lagos</td>\n",
       "      <td>Foreign Used</td>\n",
       "      <td>6-cylinder(V6)</td>\n",
       "      <td>automatic</td>\n",
       "      <td>petrol</td>\n",
       "      <td>Whine</td>\n",
       "      <td>3315000</td>\n",
       "      <td>2009</td>\n",
       "    </tr>\n",
       "    <tr>\n",
       "      <th>2</th>\n",
       "      <td>Lexus ES 350</td>\n",
       "      <td>120412</td>\n",
       "      <td>Lagos</td>\n",
       "      <td>Locally used</td>\n",
       "      <td>6-cylinder(V6)</td>\n",
       "      <td>automatic</td>\n",
       "      <td>petrol</td>\n",
       "      <td>Silver</td>\n",
       "      <td>2655000</td>\n",
       "      <td>2008</td>\n",
       "    </tr>\n",
       "    <tr>\n",
       "      <th>3</th>\n",
       "      <td>Mercedes-Benz GLK 350</td>\n",
       "      <td>67640</td>\n",
       "      <td>Lagos</td>\n",
       "      <td>Foreign Used</td>\n",
       "      <td>4-cylinder(I4)</td>\n",
       "      <td>automatic</td>\n",
       "      <td>petrol</td>\n",
       "      <td>Black</td>\n",
       "      <td>9015000</td>\n",
       "      <td>2013</td>\n",
       "    </tr>\n",
       "    <tr>\n",
       "      <th>4</th>\n",
       "      <td>Mercedes-Benz E 200</td>\n",
       "      <td>92440</td>\n",
       "      <td>Abuja</td>\n",
       "      <td>Foreign Used</td>\n",
       "      <td>4-cylinder(I4)</td>\n",
       "      <td>automatic</td>\n",
       "      <td>petrol</td>\n",
       "      <td>Black</td>\n",
       "      <td>5790000</td>\n",
       "      <td>2013</td>\n",
       "    </tr>\n",
       "  </tbody>\n",
       "</table>\n",
       "</div>"
      ],
      "text/plain": [
       "                   title  odometer location    isimported          engine  \\\n",
       "0         Toyota Corolla     60127    Lagos  Locally used  4-cylinder(I4)   \n",
       "1              Acura MDX    132908    Lagos  Foreign Used  6-cylinder(V6)   \n",
       "2           Lexus ES 350    120412    Lagos  Locally used  6-cylinder(V6)   \n",
       "3  Mercedes-Benz GLK 350     67640    Lagos  Foreign Used  4-cylinder(I4)   \n",
       "4    Mercedes-Benz E 200     92440    Abuja  Foreign Used  4-cylinder(I4)   \n",
       "\n",
       "  transmission    fuel   paint    price  year  \n",
       "0    automatic  petrol  Silver  1995000  2009  \n",
       "1    automatic  petrol  Whine   3315000  2009  \n",
       "2    automatic  petrol  Silver  2655000  2008  \n",
       "3    automatic  petrol   Black  9015000  2013  \n",
       "4    automatic  petrol   Black  5790000  2013  "
      ]
     },
     "execution_count": 4,
     "metadata": {},
     "output_type": "execute_result"
    }
   ],
   "source": [
    "#display the shape and the head\n",
    "print('Data Shape:', df.shape)\n",
    "df.head()\n"
   ]
  },
  {
   "cell_type": "markdown",
   "id": "ff06fa88",
   "metadata": {},
   "source": [
    "# Data Description"
   ]
  },
  {
   "cell_type": "raw",
   "id": "210dbb13",
   "metadata": {},
   "source": [
    "\"\"\"\n",
    "Id\tFeature\tDescription\n",
    "_________________________\n",
    "01\ttitle\t      Manufacturer & Brand name\n",
    "02\todometer\t  Mileage on the car\n",
    "03\tlocation\t  Where it's been sold from (Nigerian cities)\n",
    "04\tisimported\t  If the car is used in Nigeria or imported\n",
    "05\tengine\t      Engine type\n",
    "06\ttransmission  Transmission type\n",
    "07\tfuel\t      Fuel type - Petrol or Diesel\n",
    "08\tpaint\t      Exterior paint color\n",
    "09\tprice\t      Price of the car in naira\n",
    "10\tyear\t      year of car sold\n",
    "\"\"\""
   ]
  },
  {
   "cell_type": "code",
   "execution_count": 5,
   "id": "3ddd9a17",
   "metadata": {},
   "outputs": [
    {
     "data": {
      "text/html": [
       "<div>\n",
       "<style scoped>\n",
       "    .dataframe tbody tr th:only-of-type {\n",
       "        vertical-align: middle;\n",
       "    }\n",
       "\n",
       "    .dataframe tbody tr th {\n",
       "        vertical-align: top;\n",
       "    }\n",
       "\n",
       "    .dataframe thead th {\n",
       "        text-align: right;\n",
       "    }\n",
       "</style>\n",
       "<table border=\"1\" class=\"dataframe\">\n",
       "  <thead>\n",
       "    <tr style=\"text-align: right;\">\n",
       "      <th></th>\n",
       "      <th>title</th>\n",
       "      <th>odometer</th>\n",
       "      <th>location</th>\n",
       "      <th>isimported</th>\n",
       "      <th>engine</th>\n",
       "      <th>transmission</th>\n",
       "      <th>fuel</th>\n",
       "      <th>paint</th>\n",
       "      <th>price</th>\n",
       "      <th>year</th>\n",
       "    </tr>\n",
       "  </thead>\n",
       "  <tbody>\n",
       "    <tr>\n",
       "      <th>count</th>\n",
       "      <td>1451</td>\n",
       "      <td>1.451000e+03</td>\n",
       "      <td>1451</td>\n",
       "      <td>1451</td>\n",
       "      <td>1451</td>\n",
       "      <td>1451</td>\n",
       "      <td>1451</td>\n",
       "      <td>1451</td>\n",
       "      <td>1.451000e+03</td>\n",
       "      <td>1451.000000</td>\n",
       "    </tr>\n",
       "    <tr>\n",
       "      <th>unique</th>\n",
       "      <td>240</td>\n",
       "      <td>NaN</td>\n",
       "      <td>15</td>\n",
       "      <td>3</td>\n",
       "      <td>9</td>\n",
       "      <td>2</td>\n",
       "      <td>2</td>\n",
       "      <td>87</td>\n",
       "      <td>NaN</td>\n",
       "      <td>NaN</td>\n",
       "    </tr>\n",
       "    <tr>\n",
       "      <th>top</th>\n",
       "      <td>Toyota Camry</td>\n",
       "      <td>NaN</td>\n",
       "      <td>Lagos</td>\n",
       "      <td>Foreign Used</td>\n",
       "      <td>4-cylinder(I4)</td>\n",
       "      <td>automatic</td>\n",
       "      <td>petrol</td>\n",
       "      <td>Black</td>\n",
       "      <td>NaN</td>\n",
       "      <td>NaN</td>\n",
       "    </tr>\n",
       "    <tr>\n",
       "      <th>freq</th>\n",
       "      <td>181</td>\n",
       "      <td>NaN</td>\n",
       "      <td>1130</td>\n",
       "      <td>1065</td>\n",
       "      <td>896</td>\n",
       "      <td>1379</td>\n",
       "      <td>1386</td>\n",
       "      <td>410</td>\n",
       "      <td>NaN</td>\n",
       "      <td>NaN</td>\n",
       "    </tr>\n",
       "    <tr>\n",
       "      <th>mean</th>\n",
       "      <td>NaN</td>\n",
       "      <td>1.168021e+05</td>\n",
       "      <td>NaN</td>\n",
       "      <td>NaN</td>\n",
       "      <td>NaN</td>\n",
       "      <td>NaN</td>\n",
       "      <td>NaN</td>\n",
       "      <td>NaN</td>\n",
       "      <td>8.431088e+06</td>\n",
       "      <td>2008.594073</td>\n",
       "    </tr>\n",
       "    <tr>\n",
       "      <th>std</th>\n",
       "      <td>NaN</td>\n",
       "      <td>1.158419e+05</td>\n",
       "      <td>NaN</td>\n",
       "      <td>NaN</td>\n",
       "      <td>NaN</td>\n",
       "      <td>NaN</td>\n",
       "      <td>NaN</td>\n",
       "      <td>NaN</td>\n",
       "      <td>1.308960e+07</td>\n",
       "      <td>39.204292</td>\n",
       "    </tr>\n",
       "    <tr>\n",
       "      <th>min</th>\n",
       "      <td>NaN</td>\n",
       "      <td>0.000000e+00</td>\n",
       "      <td>NaN</td>\n",
       "      <td>NaN</td>\n",
       "      <td>NaN</td>\n",
       "      <td>NaN</td>\n",
       "      <td>NaN</td>\n",
       "      <td>NaN</td>\n",
       "      <td>4.000000e+05</td>\n",
       "      <td>1217.000000</td>\n",
       "    </tr>\n",
       "    <tr>\n",
       "      <th>25%</th>\n",
       "      <td>NaN</td>\n",
       "      <td>5.333800e+04</td>\n",
       "      <td>NaN</td>\n",
       "      <td>NaN</td>\n",
       "      <td>NaN</td>\n",
       "      <td>NaN</td>\n",
       "      <td>NaN</td>\n",
       "      <td>NaN</td>\n",
       "      <td>2.615000e+06</td>\n",
       "      <td>2006.000000</td>\n",
       "    </tr>\n",
       "    <tr>\n",
       "      <th>50%</th>\n",
       "      <td>NaN</td>\n",
       "      <td>9.291900e+04</td>\n",
       "      <td>NaN</td>\n",
       "      <td>NaN</td>\n",
       "      <td>NaN</td>\n",
       "      <td>NaN</td>\n",
       "      <td>NaN</td>\n",
       "      <td>NaN</td>\n",
       "      <td>4.215000e+06</td>\n",
       "      <td>2010.000000</td>\n",
       "    </tr>\n",
       "    <tr>\n",
       "      <th>75%</th>\n",
       "      <td>NaN</td>\n",
       "      <td>1.527695e+05</td>\n",
       "      <td>NaN</td>\n",
       "      <td>NaN</td>\n",
       "      <td>NaN</td>\n",
       "      <td>NaN</td>\n",
       "      <td>NaN</td>\n",
       "      <td>NaN</td>\n",
       "      <td>8.865000e+06</td>\n",
       "      <td>2014.000000</td>\n",
       "    </tr>\n",
       "    <tr>\n",
       "      <th>max</th>\n",
       "      <td>NaN</td>\n",
       "      <td>1.775588e+06</td>\n",
       "      <td>NaN</td>\n",
       "      <td>NaN</td>\n",
       "      <td>NaN</td>\n",
       "      <td>NaN</td>\n",
       "      <td>NaN</td>\n",
       "      <td>NaN</td>\n",
       "      <td>1.670150e+08</td>\n",
       "      <td>2626.000000</td>\n",
       "    </tr>\n",
       "  </tbody>\n",
       "</table>\n",
       "</div>"
      ],
      "text/plain": [
       "               title      odometer location    isimported          engine  \\\n",
       "count           1451  1.451000e+03     1451          1451            1451   \n",
       "unique           240           NaN       15             3               9   \n",
       "top     Toyota Camry           NaN    Lagos  Foreign Used  4-cylinder(I4)   \n",
       "freq             181           NaN     1130          1065             896   \n",
       "mean             NaN  1.168021e+05      NaN           NaN             NaN   \n",
       "std              NaN  1.158419e+05      NaN           NaN             NaN   \n",
       "min              NaN  0.000000e+00      NaN           NaN             NaN   \n",
       "25%              NaN  5.333800e+04      NaN           NaN             NaN   \n",
       "50%              NaN  9.291900e+04      NaN           NaN             NaN   \n",
       "75%              NaN  1.527695e+05      NaN           NaN             NaN   \n",
       "max              NaN  1.775588e+06      NaN           NaN             NaN   \n",
       "\n",
       "       transmission    fuel  paint         price         year  \n",
       "count          1451    1451   1451  1.451000e+03  1451.000000  \n",
       "unique            2       2     87           NaN          NaN  \n",
       "top       automatic  petrol  Black           NaN          NaN  \n",
       "freq           1379    1386    410           NaN          NaN  \n",
       "mean            NaN     NaN    NaN  8.431088e+06  2008.594073  \n",
       "std             NaN     NaN    NaN  1.308960e+07    39.204292  \n",
       "min             NaN     NaN    NaN  4.000000e+05  1217.000000  \n",
       "25%             NaN     NaN    NaN  2.615000e+06  2006.000000  \n",
       "50%             NaN     NaN    NaN  4.215000e+06  2010.000000  \n",
       "75%             NaN     NaN    NaN  8.865000e+06  2014.000000  \n",
       "max             NaN     NaN    NaN  1.670150e+08  2626.000000  "
      ]
     },
     "execution_count": 5,
     "metadata": {},
     "output_type": "execute_result"
    }
   ],
   "source": [
    "#statistic summary of all the column including the character columns\n",
    "df.describe(include='all')"
   ]
  },
  {
   "cell_type": "code",
   "execution_count": 6,
   "id": "f681d9ef",
   "metadata": {},
   "outputs": [
    {
     "name": "stdout",
     "output_type": "stream",
     "text": [
      "<class 'pandas.core.frame.DataFrame'>\n",
      "RangeIndex: 1451 entries, 0 to 1450\n",
      "Data columns (total 10 columns):\n",
      " #   Column        Non-Null Count  Dtype \n",
      "---  ------        --------------  ----- \n",
      " 0   title         1451 non-null   object\n",
      " 1   odometer      1451 non-null   int64 \n",
      " 2   location      1451 non-null   object\n",
      " 3   isimported    1451 non-null   object\n",
      " 4   engine        1451 non-null   object\n",
      " 5   transmission  1451 non-null   object\n",
      " 6   fuel          1451 non-null   object\n",
      " 7   paint         1451 non-null   object\n",
      " 8   price         1451 non-null   int64 \n",
      " 9   year          1451 non-null   int64 \n",
      "dtypes: int64(3), object(7)\n",
      "memory usage: 113.5+ KB\n"
     ]
    }
   ],
   "source": [
    "# Details about Dataframe index, Column Name, Non-null Count, and Datatype of the column\n",
    "df.info()"
   ]
  },
  {
   "cell_type": "code",
   "execution_count": 7,
   "id": "ed12c8ed",
   "metadata": {},
   "outputs": [
    {
     "data": {
      "text/plain": [
       "title  odometer  location  isimported  engine  transmission  fuel   paint  price  year \n",
       "False  False     False     False       False   False         False  False  False  False    1451\n",
       "dtype: int64"
      ]
     },
     "execution_count": 7,
     "metadata": {},
     "output_type": "execute_result"
    }
   ],
   "source": [
    "#Check and count if missing value in each column\n",
    "df.isnull().value_counts()"
   ]
  },
  {
   "cell_type": "code",
   "execution_count": 8,
   "id": "9a56320d",
   "metadata": {},
   "outputs": [
    {
     "data": {
      "text/html": [
       "<div>\n",
       "<style scoped>\n",
       "    .dataframe tbody tr th:only-of-type {\n",
       "        vertical-align: middle;\n",
       "    }\n",
       "\n",
       "    .dataframe tbody tr th {\n",
       "        vertical-align: top;\n",
       "    }\n",
       "\n",
       "    .dataframe thead th {\n",
       "        text-align: right;\n",
       "    }\n",
       "</style>\n",
       "<table border=\"1\" class=\"dataframe\">\n",
       "  <thead>\n",
       "    <tr style=\"text-align: right;\">\n",
       "      <th></th>\n",
       "      <th>title</th>\n",
       "      <th>odometer</th>\n",
       "      <th>location</th>\n",
       "      <th>isimported</th>\n",
       "      <th>engine</th>\n",
       "      <th>transmission</th>\n",
       "      <th>fuel</th>\n",
       "      <th>paint</th>\n",
       "      <th>price</th>\n",
       "      <th>year</th>\n",
       "    </tr>\n",
       "  </thead>\n",
       "  <tbody>\n",
       "    <tr>\n",
       "      <th>457</th>\n",
       "      <td>Mercedes-Benz ATEGO</td>\n",
       "      <td>403461</td>\n",
       "      <td>Lagos</td>\n",
       "      <td>Locally used</td>\n",
       "      <td>4-cylinder(I4)</td>\n",
       "      <td>manual</td>\n",
       "      <td>diesel</td>\n",
       "      <td>white</td>\n",
       "      <td>6015000</td>\n",
       "      <td>1218</td>\n",
       "    </tr>\n",
       "    <tr>\n",
       "      <th>460</th>\n",
       "      <td>Mercedes-Benz WATER TANKER</td>\n",
       "      <td>701934</td>\n",
       "      <td>Lagos</td>\n",
       "      <td>Locally used</td>\n",
       "      <td>8-cylinder(V8)</td>\n",
       "      <td>manual</td>\n",
       "      <td>diesel</td>\n",
       "      <td>white</td>\n",
       "      <td>12015000</td>\n",
       "      <td>1726</td>\n",
       "    </tr>\n",
       "    <tr>\n",
       "      <th>470</th>\n",
       "      <td>Mercedes-Benz DUMP TRUCK</td>\n",
       "      <td>0</td>\n",
       "      <td>Lagos</td>\n",
       "      <td>Locally used</td>\n",
       "      <td>8-cylinder(V8)</td>\n",
       "      <td>manual</td>\n",
       "      <td>diesel</td>\n",
       "      <td>white</td>\n",
       "      <td>12015000</td>\n",
       "      <td>2626</td>\n",
       "    </tr>\n",
       "    <tr>\n",
       "      <th>479</th>\n",
       "      <td>Mercedes-Benz/52</td>\n",
       "      <td>510053</td>\n",
       "      <td>Lagos</td>\n",
       "      <td>Locally used</td>\n",
       "      <td>6-cylinder(V6)</td>\n",
       "      <td>manual</td>\n",
       "      <td>diesel</td>\n",
       "      <td>white</td>\n",
       "      <td>75015000</td>\n",
       "      <td>1217</td>\n",
       "    </tr>\n",
       "    <tr>\n",
       "      <th>486</th>\n",
       "      <td>Mercedes-Benz CABIN PLUS CHASSIS ONLY</td>\n",
       "      <td>650923</td>\n",
       "      <td>Lagos</td>\n",
       "      <td>Locally used</td>\n",
       "      <td>6-cylinder(V6)</td>\n",
       "      <td>manual</td>\n",
       "      <td>diesel</td>\n",
       "      <td>blue</td>\n",
       "      <td>7015000</td>\n",
       "      <td>1324</td>\n",
       "    </tr>\n",
       "  </tbody>\n",
       "</table>\n",
       "</div>"
      ],
      "text/plain": [
       "                                     title  odometer location    isimported  \\\n",
       "457                    Mercedes-Benz ATEGO    403461    Lagos  Locally used   \n",
       "460             Mercedes-Benz WATER TANKER    701934    Lagos  Locally used   \n",
       "470               Mercedes-Benz DUMP TRUCK         0    Lagos  Locally used   \n",
       "479                       Mercedes-Benz/52    510053    Lagos  Locally used   \n",
       "486  Mercedes-Benz CABIN PLUS CHASSIS ONLY    650923    Lagos  Locally used   \n",
       "\n",
       "             engine transmission    fuel  paint     price  year  \n",
       "457  4-cylinder(I4)       manual  diesel  white   6015000  1218  \n",
       "460  8-cylinder(V8)       manual  diesel  white  12015000  1726  \n",
       "470  8-cylinder(V8)       manual  diesel  white  12015000  2626  \n",
       "479  6-cylinder(V6)       manual  diesel  white  75015000  1217  \n",
       "486  6-cylinder(V6)       manual  diesel   blue   7015000  1324  "
      ]
     },
     "execution_count": 8,
     "metadata": {},
     "output_type": "execute_result"
    }
   ],
   "source": [
    "#There are some abnormality in the year column\n",
    "# show rows bellow 1980 or above 2022\n",
    "df[(df.year<1980) | (df.year>2022)]"
   ]
  },
  {
   "cell_type": "code",
   "execution_count": 9,
   "id": "bc4c5ef0",
   "metadata": {},
   "outputs": [
    {
     "name": "stdout",
     "output_type": "stream",
     "text": [
      "The shape of wrong years fetched (5, 10)\n"
     ]
    }
   ],
   "source": [
    "print(f\"The shape of wrong years fetched {df[(df.year<1980) | (df.year>2020)].shape}\")"
   ]
  },
  {
   "cell_type": "code",
   "execution_count": 10,
   "id": "67939eb2",
   "metadata": {},
   "outputs": [
    {
     "data": {
      "text/plain": [
       "(1451, 10)"
      ]
     },
     "execution_count": 10,
     "metadata": {},
     "output_type": "execute_result"
    }
   ],
   "source": [
    "df.shape"
   ]
  },
  {
   "cell_type": "code",
   "execution_count": 11,
   "id": "d3b7649a",
   "metadata": {},
   "outputs": [],
   "source": [
    "# these are only 5 rows, so let's remove them\n",
    "df = df[(df.year>=1980) & (df.year<=2020)]"
   ]
  },
  {
   "cell_type": "code",
   "execution_count": 12,
   "id": "3f72812f",
   "metadata": {},
   "outputs": [
    {
     "data": {
      "text/plain": [
       "(1446, 10)"
      ]
     },
     "execution_count": 12,
     "metadata": {},
     "output_type": "execute_result"
    }
   ],
   "source": [
    "df.shape"
   ]
  },
  {
   "cell_type": "code",
   "execution_count": 13,
   "id": "6f8df516",
   "metadata": {},
   "outputs": [
    {
     "data": {
      "text/html": [
       "<div>\n",
       "<style scoped>\n",
       "    .dataframe tbody tr th:only-of-type {\n",
       "        vertical-align: middle;\n",
       "    }\n",
       "\n",
       "    .dataframe tbody tr th {\n",
       "        vertical-align: top;\n",
       "    }\n",
       "\n",
       "    .dataframe thead th {\n",
       "        text-align: right;\n",
       "    }\n",
       "</style>\n",
       "<table border=\"1\" class=\"dataframe\">\n",
       "  <thead>\n",
       "    <tr style=\"text-align: right;\">\n",
       "      <th></th>\n",
       "      <th>title</th>\n",
       "      <th>odometer</th>\n",
       "      <th>location</th>\n",
       "      <th>isimported</th>\n",
       "      <th>engine</th>\n",
       "      <th>transmission</th>\n",
       "      <th>fuel</th>\n",
       "      <th>paint</th>\n",
       "      <th>price</th>\n",
       "      <th>year</th>\n",
       "    </tr>\n",
       "  </thead>\n",
       "  <tbody>\n",
       "    <tr>\n",
       "      <th>0</th>\n",
       "      <td>Toyota Corolla</td>\n",
       "      <td>60127</td>\n",
       "      <td>Lagos</td>\n",
       "      <td>Locally used</td>\n",
       "      <td>4-cylinder(I4)</td>\n",
       "      <td>automatic</td>\n",
       "      <td>petrol</td>\n",
       "      <td>Silver</td>\n",
       "      <td>1995000</td>\n",
       "      <td>2009</td>\n",
       "    </tr>\n",
       "    <tr>\n",
       "      <th>1</th>\n",
       "      <td>Acura MDX</td>\n",
       "      <td>132908</td>\n",
       "      <td>Lagos</td>\n",
       "      <td>Foreign Used</td>\n",
       "      <td>6-cylinder(V6)</td>\n",
       "      <td>automatic</td>\n",
       "      <td>petrol</td>\n",
       "      <td>Whine</td>\n",
       "      <td>3315000</td>\n",
       "      <td>2009</td>\n",
       "    </tr>\n",
       "    <tr>\n",
       "      <th>2</th>\n",
       "      <td>Lexus ES 350</td>\n",
       "      <td>120412</td>\n",
       "      <td>Lagos</td>\n",
       "      <td>Locally used</td>\n",
       "      <td>6-cylinder(V6)</td>\n",
       "      <td>automatic</td>\n",
       "      <td>petrol</td>\n",
       "      <td>Silver</td>\n",
       "      <td>2655000</td>\n",
       "      <td>2008</td>\n",
       "    </tr>\n",
       "    <tr>\n",
       "      <th>3</th>\n",
       "      <td>Mercedes-Benz GLK 350</td>\n",
       "      <td>67640</td>\n",
       "      <td>Lagos</td>\n",
       "      <td>Foreign Used</td>\n",
       "      <td>4-cylinder(I4)</td>\n",
       "      <td>automatic</td>\n",
       "      <td>petrol</td>\n",
       "      <td>Black</td>\n",
       "      <td>9015000</td>\n",
       "      <td>2013</td>\n",
       "    </tr>\n",
       "    <tr>\n",
       "      <th>4</th>\n",
       "      <td>Mercedes-Benz E 200</td>\n",
       "      <td>92440</td>\n",
       "      <td>Abuja</td>\n",
       "      <td>Foreign Used</td>\n",
       "      <td>4-cylinder(I4)</td>\n",
       "      <td>automatic</td>\n",
       "      <td>petrol</td>\n",
       "      <td>Black</td>\n",
       "      <td>5790000</td>\n",
       "      <td>2013</td>\n",
       "    </tr>\n",
       "  </tbody>\n",
       "</table>\n",
       "</div>"
      ],
      "text/plain": [
       "                   title  odometer location    isimported          engine  \\\n",
       "0         Toyota Corolla     60127    Lagos  Locally used  4-cylinder(I4)   \n",
       "1              Acura MDX    132908    Lagos  Foreign Used  6-cylinder(V6)   \n",
       "2           Lexus ES 350    120412    Lagos  Locally used  6-cylinder(V6)   \n",
       "3  Mercedes-Benz GLK 350     67640    Lagos  Foreign Used  4-cylinder(I4)   \n",
       "4    Mercedes-Benz E 200     92440    Abuja  Foreign Used  4-cylinder(I4)   \n",
       "\n",
       "  transmission    fuel   paint    price  year  \n",
       "0    automatic  petrol  Silver  1995000  2009  \n",
       "1    automatic  petrol  Whine   3315000  2009  \n",
       "2    automatic  petrol  Silver  2655000  2008  \n",
       "3    automatic  petrol   Black  9015000  2013  \n",
       "4    automatic  petrol   Black  5790000  2013  "
      ]
     },
     "execution_count": 13,
     "metadata": {},
     "output_type": "execute_result"
    }
   ],
   "source": [
    "df.head()"
   ]
  },
  {
   "cell_type": "code",
   "execution_count": 14,
   "id": "d7fc75c6",
   "metadata": {},
   "outputs": [
    {
     "data": {
      "text/plain": [
       "Index(['Black', 'Silver', 'White', 'Grey', 'Blue', 'Red', 'Dark Grey', 'Gold',\n",
       "       'white', 'Gray', 'Green', 'Brown', 'Black ', 'Dark Blue', 'Wine',\n",
       "       'Sliver', 'Blue ', 'Silver ', 'Ash', 'Grey ', 'blue', 'red', 'Yellow',\n",
       "       'green', 'Dark Ash', 'Dark blue ', 'Gold ', 'Dark Green', 'Cream ',\n",
       "       'Cream', 'Purple', 'Maroon', 'Dark gray', 'white-blue', 'Milk',\n",
       "       'Navy blue', 'BLACK', 'GOLD', 'Light Grey', 'Sky blue', 'Green ',\n",
       "       'Beige', 'White ', 'Pale brown', 'White and green', 'Blac', 'WHITE',\n",
       "       'Redl', 'Dark ash', 'Black and silver', 'Skye blue', 'Sliver ', 'Gray ',\n",
       "       'Off white l', 'Black sand pearl', 'Grey and black', 'DARK GREY',\n",
       "       'Deep Blue', 'Deep blue', ' Black/Red', ' Black', '  Brown',\n",
       "       'Light silver ', 'SILVER', 'Ink blue', 'yellow', 'Dark silver ',\n",
       "       'Light blue', 'Super White', 'Silver/grey', 'Indigo ink pearl', 'black',\n",
       "       'Classic Silver Met(1F7)', 'Mint green', 'White orchild pearl',\n",
       "       'Light Gold', 'Black.', 'Whine ', 'Golf', 'orange',\n",
       "       'Midnight Black Metal', 'Magnetic Gray', 'Magnetic Gray Metallic',\n",
       "       'Ash and black', 'Off white', 'Gery', 'WINE'],\n",
       "      dtype='object')"
      ]
     },
     "execution_count": 14,
     "metadata": {},
     "output_type": "execute_result"
    }
   ],
   "source": [
    "df.paint.value_counts().index"
   ]
  },
  {
   "cell_type": "markdown",
   "id": "97f1941b",
   "metadata": {},
   "source": [
    "##### There are some abnormality in the naming of the paint\n",
    "##### Correct and clean it up"
   ]
  },
  {
   "cell_type": "code",
   "execution_count": 15,
   "id": "0e9d3ff2",
   "metadata": {},
   "outputs": [
    {
     "data": {
      "text/plain": [
       "Index(['Black', 'White', 'Silver', 'Grey', 'Blue', 'Red', 'Dark grey', 'Gold',\n",
       "       'Green', 'Gray', 'Brown', 'Black ', 'Dark blue', 'Wine', 'Sliver',\n",
       "       'Blue ', 'Yellow', 'Silver ', 'Ash', 'Dark ash', 'Grey ', 'Dark blue ',\n",
       "       'Gold ', 'Dark green', 'Purple', 'Cream', 'Maroon', 'Cream ',\n",
       "       'Dark gray', 'White ', 'Beige', 'White-blue', 'Milk', 'Navy blue',\n",
       "       'Deep blue', 'Green ', 'Light grey', 'Sky blue', 'Whine ', ' black/red',\n",
       "       'Black and silver', 'Light blue', 'White and green', 'Sliver ',\n",
       "       'Off white l', 'Dark silver ', 'Gray ', ' black', 'Redl', 'Pale brown',\n",
       "       'Grey and black', '  brown', 'Black sand pearl', 'Skye blue',\n",
       "       'Super white', 'Blac', 'Light silver ', 'Magnetic gray', 'Golf',\n",
       "       'Light gold', 'White orchild pearl', 'Mint green', 'Orange',\n",
       "       'Midnight black metal', 'Magnetic gray metallic', 'Silver/grey',\n",
       "       'Ash and black', 'Off white', 'Classic silver met(1f7)', 'Gery',\n",
       "       'Ink blue', 'Indigo ink pearl', 'Black.'],\n",
       "      dtype='object')"
      ]
     },
     "execution_count": 15,
     "metadata": {},
     "output_type": "execute_result"
    }
   ],
   "source": [
    "#conver the first letter in paint to capital letter\n",
    "df['paint'] = list(map(str.capitalize, df.paint))\n",
    "paint_capitalized = df.paint.value_counts()\n",
    "paint_capitalized.index"
   ]
  },
  {
   "cell_type": "code",
   "execution_count": 16,
   "id": "c4783478",
   "metadata": {},
   "outputs": [],
   "source": [
    "# now correct misspellings, redundant spaces, etc.\n",
    "df.paint = df.paint.replace({'Sliver': 'Silver'})\n",
    "df.paint = df.paint.replace({'Sliver ': 'Silver'})\n",
    "df.paint = df.paint.replace({'Blue ': 'Blue'})\n",
    "df.paint = df.paint.replace({'Grey ': 'Grey'})\n",
    "df.paint = df.paint.replace({'Gery': 'Grey'})\n",
    "df.paint = df.paint.replace({'Gold ': 'Gold'})\n",
    "df.paint = df.paint.replace({'Black ': 'Black'})\n",
    "df.paint = df.paint.replace({' Black': 'Black'})\n",
    "df.paint = df.paint.replace({' black': 'Black'})\n",
    "df.paint = df.paint.replace({'Black.': 'Black'})\n",
    "df.paint = df.paint.replace({'Blac': 'Black'})\n",
    "df.paint = df.paint.replace({'Dark blue ': 'Dark blue'})\n",
    "df.paint = df.paint.replace({'Cream ': 'Cream'})\n",
    "df.paint = df.paint.replace({'Silver ': 'Silver'})\n",
    "df.paint = df.paint.replace({'Green ': 'Green'})\n",
    "df.paint = df.paint.replace({'White ': 'White'})\n",
    "df.paint = df.paint.replace({'  Brown': 'Brown'})\n",
    "df.paint = df.paint.replace({'Gray': 'Grey'})\n",
    "df.paint = df.paint.replace({'Gray ': 'Grey'})\n",
    "df.paint = df.paint.replace({'Dark Gray': 'Dark grey'})\n",
    "df.paint = df.paint.replace({'Redl': 'Red'})\n",
    "df.paint = df.paint.replace({'Skye blue': 'Sky blue'})\n",
    "df.paint = df.paint.replace({'Dark silver ': 'Dark silver'})\n",
    "df.paint = df.paint.replace({'Light silver ': 'Light silver'})\n",
    "df.paint = df.paint.replace({'Off white l': 'Off white'})\n",
    "df.paint = df.paint.replace({' black/red': 'Black/red'})\n",
    "df.paint = df.paint.replace({'Whine ': 'Wine'})\n",
    "df.paint = df.paint.replace({'White orchild pearl': 'White orchid pearl'})\n",
    "df.paint = df.paint.replace({'Magnetic gray': 'Magnetic grey'})\n",
    "df.paint = df.paint.replace({'Magnetic gray metallic': 'Magnetic grey metallic'})"
   ]
  },
  {
   "cell_type": "code",
   "execution_count": 17,
   "id": "9f87424a",
   "metadata": {},
   "outputs": [
    {
     "data": {
      "text/plain": [
       "Index(['Black', 'White', 'Silver', 'Grey', 'Blue', 'Red', 'Dark grey', 'Gold',\n",
       "       'Green', 'Dark blue', 'Brown', 'Wine', 'Cream', 'Yellow', 'Dark ash',\n",
       "       'Ash', 'Dark green', 'Purple', 'Maroon', 'Sky blue', 'Dark gray',\n",
       "       'Deep blue', 'Off white', 'White-blue', 'Milk', 'Navy blue', 'Beige',\n",
       "       'Light grey', 'Light silver', 'Super white', 'Black sand pearl',\n",
       "       '  brown', 'Grey and black', 'Pale brown', 'Black/red',\n",
       "       'White and green', 'Dark silver', 'Black and silver', 'Light blue',\n",
       "       'Ink blue', 'Golf', 'Silver/grey', 'Indigo ink pearl', 'Ash and black',\n",
       "       'Magnetic grey metallic', 'Magnetic grey', 'Midnight black metal',\n",
       "       'Orange', 'Classic silver met(1f7)', 'Mint green', 'White orchid pearl',\n",
       "       'Light gold'],\n",
       "      dtype='object')"
      ]
     },
     "execution_count": 17,
     "metadata": {},
     "output_type": "execute_result"
    }
   ],
   "source": [
    "df.paint.value_counts().index"
   ]
  },
  {
   "cell_type": "code",
   "execution_count": 53,
   "id": "08998f76",
   "metadata": {},
   "outputs": [
    {
     "data": {
      "text/plain": [
       "Black                      435\n",
       "White                      201\n",
       "Silver                     180\n",
       "Grey                       151\n",
       "Blue                       108\n",
       "Red                         95\n",
       "Dark grey                   62\n",
       "Gold                        52\n",
       "Green                       32\n",
       "Dark blue                   22\n",
       "Brown                       21\n",
       "Wine                        12\n",
       "Cream                        6\n",
       "Yellow                       6\n",
       "Dark ash                     5\n",
       "Ash                          5\n",
       "Dark green                   4\n",
       "Purple                       3\n",
       "Maroon                       3\n",
       "Sky blue                     3\n",
       "Dark gray                    2\n",
       "Deep blue                    2\n",
       "Off white                    2\n",
       "White-blue                   2\n",
       "Milk                         2\n",
       "Navy blue                    2\n",
       "Beige                        2\n",
       "Light grey                   2\n",
       "Light silver                 1\n",
       "Super white                  1\n",
       "Black sand pearl             1\n",
       "  brown                      1\n",
       "Grey and black               1\n",
       "Pale brown                   1\n",
       "Black/red                    1\n",
       "White and green              1\n",
       "Dark silver                  1\n",
       "Black and silver             1\n",
       "Light blue                   1\n",
       "Ink blue                     1\n",
       "Golf                         1\n",
       "Silver/grey                  1\n",
       "Indigo ink pearl             1\n",
       "Ash and black                1\n",
       "Magnetic grey metallic       1\n",
       "Magnetic grey                1\n",
       "Midnight black metal         1\n",
       "Orange                       1\n",
       "Classic silver met(1f7)      1\n",
       "Mint green                   1\n",
       "White orchid pearl           1\n",
       "Light gold                   1\n",
       "Name: paint, dtype: int64"
      ]
     },
     "execution_count": 53,
     "metadata": {},
     "output_type": "execute_result"
    }
   ],
   "source": [
    "paint_count = df.paint.value_counts()\n",
    "paint_count"
   ]
  },
  {
   "cell_type": "code",
   "execution_count": 19,
   "id": "2b61b437",
   "metadata": {},
   "outputs": [
    {
     "data": {
      "text/plain": [
       "Black        435\n",
       "White        201\n",
       "Silver       180\n",
       "Grey         151\n",
       "Blue         108\n",
       "Red           95\n",
       "_OTHER_       75\n",
       "Dark grey     62\n",
       "Gold          52\n",
       "Green         32\n",
       "Dark blue     22\n",
       "Brown         21\n",
       "Wine          12\n",
       "Name: paint_reduced, dtype: int64"
      ]
     },
     "execution_count": 19,
     "metadata": {},
     "output_type": "execute_result"
    }
   ],
   "source": [
    "#reduce paint to the ones with at least 10 entries, then move the rest to a \"Other\" cathegory \n",
    "paint_top = list(paint_count[paint_count.values>10].index)\n",
    "#create another column where to keep the new cathegory with other\n",
    "df['paint_reduced'] = df.paint.where(df.paint.isin(paint_top), '_OTHER_')\n",
    "df['paint_reduced'].value_counts()"
   ]
  },
  {
   "cell_type": "markdown",
   "id": "81dd92eb",
   "metadata": {},
   "source": [
    " "
   ]
  },
  {
   "cell_type": "markdown",
   "id": "e0abb665",
   "metadata": {},
   "source": [
    "## 1. Which brand of car sold more"
   ]
  },
  {
   "cell_type": "code",
   "execution_count": 54,
   "id": "a1df0b0f",
   "metadata": {
    "scrolled": true
   },
   "outputs": [
    {
     "data": {
      "text/plain": [
       "Toyota Camry                181\n",
       "Toyota Corolla              160\n",
       "Toyota Highlander            80\n",
       "Toyota Sienna                78\n",
       "Toyota RAV 4                 59\n",
       "                           ... \n",
       "Isuzu NQR                     1\n",
       "Nissan A                      1\n",
       "Man Diesel 19.314 FILT-N      1\n",
       "Lincoln Mark                  1\n",
       "Mercedes-Benz S 450           1\n",
       "Name: title, Length: 235, dtype: int64"
      ]
     },
     "execution_count": 54,
     "metadata": {},
     "output_type": "execute_result"
    }
   ],
   "source": [
    "df.title.value_counts()"
   ]
  },
  {
   "cell_type": "code",
   "execution_count": 20,
   "id": "21eff7d6",
   "metadata": {},
   "outputs": [
    {
     "data": {
      "text/plain": [
       "Index(['Toyota Camry', 'Toyota Corolla', 'Toyota Highlander', 'Toyota Sienna',\n",
       "       'Toyota RAV 4', 'Honda Accord', 'Lexus RX 350', 'Lexus ES 350',\n",
       "       'Lexus GX 460', 'Toyota Venza',\n",
       "       ...\n",
       "       'DAF 95XF TRACTOR HEAD', 'DAF CF', 'Isuzu CABSTER', 'Volvo FL12',\n",
       "       'Iveco EUROCARGO 120e18', 'Isuzu NQR', 'Nissan A',\n",
       "       'Man Diesel 19.314 FILT-N', 'Lincoln Mark', 'Mercedes-Benz S 450'],\n",
       "      dtype='object', length=235)"
      ]
     },
     "execution_count": 20,
     "metadata": {},
     "output_type": "execute_result"
    }
   ],
   "source": [
    "df.title.value_counts().index"
   ]
  },
  {
   "cell_type": "markdown",
   "id": "38949fb8",
   "metadata": {},
   "source": [
    "#### Almost all the title started with the brand name. Extract the first name to create a new column named brand"
   ]
  },
  {
   "cell_type": "markdown",
   "id": "b767ca8b",
   "metadata": {},
   "source": [
    "### Extract Brand from title"
   ]
  },
  {
   "cell_type": "code",
   "execution_count": 21,
   "id": "dfa04052",
   "metadata": {},
   "outputs": [],
   "source": [
    "def first_piece(i_string):\n",
    "    return i_string.split()[0]\n",
    "\n",
    "df['brand'] = list(map(first_piece, df.title))"
   ]
  },
  {
   "cell_type": "code",
   "execution_count": 22,
   "id": "5dc3f8f6",
   "metadata": {},
   "outputs": [
    {
     "data": {
      "text/plain": [
       "Toyota            699\n",
       "Lexus             176\n",
       "Mercedes-Benz     143\n",
       "Honda             115\n",
       "Ford               46\n",
       "Hyundai            35\n",
       "Nissan             33\n",
       "Land               25\n",
       "Kia                17\n",
       "Volkswagen         16\n",
       "Acura              14\n",
       "BMW                13\n",
       "Volvo              11\n",
       "Mack               10\n",
       "Mazda               9\n",
       "Mitsubishi          8\n",
       "Man                 7\n",
       "Infiniti            7\n",
       "Chevrolet           6\n",
       "Peugeot             6\n",
       "Porsche             5\n",
       "DAF                 5\n",
       "Pontiac             4\n",
       "MINI                4\n",
       "GAC                 4\n",
       "Iveco               4\n",
       "Jeep                3\n",
       "Scania              3\n",
       "Jaguar              3\n",
       "Isuzu               2\n",
       "Rolls-Royce         2\n",
       "MAN-VOLKSWAGEN      1\n",
       "IVM                 1\n",
       "Lincoln             1\n",
       "IVECO               1\n",
       "Audi                1\n",
       "ALPINA              1\n",
       "JMC                 1\n",
       "Dodge               1\n",
       "GMC                 1\n",
       "Fiat                1\n",
       "Bentley             1\n",
       "Name: brand, dtype: int64"
      ]
     },
     "execution_count": 22,
     "metadata": {},
     "output_type": "execute_result"
    }
   ],
   "source": [
    "df.brand.value_counts()"
   ]
  },
  {
   "cell_type": "code",
   "execution_count": 23,
   "id": "35daf36d",
   "metadata": {},
   "outputs": [],
   "source": [
    "#replace Land to Land Rover\n",
    "df.brand = df.brand.replace(\"Land\", \"Land Rover\")\n",
    "#df.brand = df.brand.replace({'Land': 'Land Rover'})"
   ]
  },
  {
   "cell_type": "code",
   "execution_count": 24,
   "id": "4edd3546",
   "metadata": {},
   "outputs": [
    {
     "data": {
      "text/plain": [
       "Toyota            699\n",
       "Lexus             176\n",
       "Mercedes-Benz     143\n",
       "Honda             115\n",
       "Ford               46\n",
       "Hyundai            35\n",
       "Nissan             33\n",
       "Land Rover         25\n",
       "Kia                17\n",
       "Volkswagen         16\n",
       "Acura              14\n",
       "BMW                13\n",
       "Volvo              11\n",
       "Mack               10\n",
       "Mazda               9\n",
       "Mitsubishi          8\n",
       "Man                 7\n",
       "Infiniti            7\n",
       "Chevrolet           6\n",
       "Peugeot             6\n",
       "Porsche             5\n",
       "DAF                 5\n",
       "Pontiac             4\n",
       "MINI                4\n",
       "GAC                 4\n",
       "Iveco               4\n",
       "Jeep                3\n",
       "Scania              3\n",
       "Jaguar              3\n",
       "Isuzu               2\n",
       "Rolls-Royce         2\n",
       "MAN-VOLKSWAGEN      1\n",
       "IVM                 1\n",
       "Lincoln             1\n",
       "IVECO               1\n",
       "Audi                1\n",
       "ALPINA              1\n",
       "JMC                 1\n",
       "Dodge               1\n",
       "GMC                 1\n",
       "Fiat                1\n",
       "Bentley             1\n",
       "Name: brand, dtype: int64"
      ]
     },
     "execution_count": 24,
     "metadata": {},
     "output_type": "execute_result"
    }
   ],
   "source": [
    "brand_count = df.brand.value_counts()\n",
    "brand_count"
   ]
  },
  {
   "cell_type": "code",
   "execution_count": 25,
   "id": "d445fe9f",
   "metadata": {},
   "outputs": [
    {
     "data": {
      "text/plain": [
       "Toyota           699\n",
       "Lexus            176\n",
       "Mercedes-Benz    143\n",
       "Honda            115\n",
       "Other            103\n",
       "Ford              46\n",
       "Hyundai           35\n",
       "Nissan            33\n",
       "Land Rover        25\n",
       "Kia               17\n",
       "Volkswagen        16\n",
       "Acura             14\n",
       "BMW               13\n",
       "Volvo             11\n",
       "Name: brand_reduced, dtype: int64"
      ]
     },
     "execution_count": 25,
     "metadata": {},
     "output_type": "execute_result"
    }
   ],
   "source": [
    "#Reduce the number of brand to atleast with value of 10\n",
    "brand_top = list(brand_count[brand_count.values>10].index)\n",
    "#Move the rest to Other cathegory\n",
    "df['brand_reduced'] = df.brand.where(df.brand.isin(brand_top), 'Other')\n",
    "df.brand_reduced.value_counts()"
   ]
  },
  {
   "cell_type": "markdown",
   "id": "ae8da14a",
   "metadata": {},
   "source": [
    "### Which car/brand had the highest number of sales?"
   ]
  },
  {
   "cell_type": "code",
   "execution_count": 26,
   "id": "b509417a",
   "metadata": {
    "scrolled": true
   },
   "outputs": [
    {
     "data": {
      "text/html": [
       "<div>\n",
       "<style scoped>\n",
       "    .dataframe tbody tr th:only-of-type {\n",
       "        vertical-align: middle;\n",
       "    }\n",
       "\n",
       "    .dataframe tbody tr th {\n",
       "        vertical-align: top;\n",
       "    }\n",
       "\n",
       "    .dataframe thead th {\n",
       "        text-align: right;\n",
       "    }\n",
       "</style>\n",
       "<table border=\"1\" class=\"dataframe\">\n",
       "  <thead>\n",
       "    <tr style=\"text-align: right;\">\n",
       "      <th></th>\n",
       "      <th>brand_reduced</th>\n",
       "    </tr>\n",
       "  </thead>\n",
       "  <tbody>\n",
       "    <tr>\n",
       "      <th>Toyota</th>\n",
       "      <td>699</td>\n",
       "    </tr>\n",
       "  </tbody>\n",
       "</table>\n",
       "</div>"
      ],
      "text/plain": [
       "        brand_reduced\n",
       "Toyota            699"
      ]
     },
     "execution_count": 26,
     "metadata": {},
     "output_type": "execute_result"
    }
   ],
   "source": [
    "df_brand = pd.DataFrame(df.brand_reduced.value_counts())\n",
    "\n",
    "df_brand.head(1)"
   ]
  },
  {
   "cell_type": "code",
   "execution_count": 63,
   "id": "c3d34eba",
   "metadata": {},
   "outputs": [
    {
     "data": {
      "text/plain": [
       "Text(0.5, 1.0, 'Bar chart of brands')"
      ]
     },
     "execution_count": 63,
     "metadata": {},
     "output_type": "execute_result"
    },
    {
     "data": {
      "image/png": "[encoded data removed]",
      "text/plain": [
       "<Figure size 936x432 with 1 Axes>"
      ]
     },
     "metadata": {},
     "output_type": "display_data"
    }
   ],
   "source": [
    "#Bar chart of brands\n",
    "top = df_brand.plot.bar(figsize=(13,6))\n",
    "for p in top.patches:\n",
    "    top.annotate(p.get_height(), (p.get_x() + (p.get_width()/4), p.get_height()+7))\n",
    "plt.title(\"Bar chart of brands\")"
   ]
  },
  {
   "cell_type": "markdown",
   "id": "5a730708",
   "metadata": {},
   "source": [
    "## 2. The 5 cars/brand with highest number of sales"
   ]
  },
  {
   "cell_type": "code",
   "execution_count": 27,
   "id": "b45cd7ca",
   "metadata": {},
   "outputs": [
    {
     "data": {
      "text/html": [
       "<div>\n",
       "<style scoped>\n",
       "    .dataframe tbody tr th:only-of-type {\n",
       "        vertical-align: middle;\n",
       "    }\n",
       "\n",
       "    .dataframe tbody tr th {\n",
       "        vertical-align: top;\n",
       "    }\n",
       "\n",
       "    .dataframe thead th {\n",
       "        text-align: right;\n",
       "    }\n",
       "</style>\n",
       "<table border=\"1\" class=\"dataframe\">\n",
       "  <thead>\n",
       "    <tr style=\"text-align: right;\">\n",
       "      <th></th>\n",
       "      <th>brand_reduced</th>\n",
       "    </tr>\n",
       "  </thead>\n",
       "  <tbody>\n",
       "    <tr>\n",
       "      <th>Toyota</th>\n",
       "      <td>699</td>\n",
       "    </tr>\n",
       "    <tr>\n",
       "      <th>Lexus</th>\n",
       "      <td>176</td>\n",
       "    </tr>\n",
       "    <tr>\n",
       "      <th>Mercedes-Benz</th>\n",
       "      <td>143</td>\n",
       "    </tr>\n",
       "    <tr>\n",
       "      <th>Honda</th>\n",
       "      <td>115</td>\n",
       "    </tr>\n",
       "    <tr>\n",
       "      <th>Other</th>\n",
       "      <td>103</td>\n",
       "    </tr>\n",
       "    <tr>\n",
       "      <th>Ford</th>\n",
       "      <td>46</td>\n",
       "    </tr>\n",
       "  </tbody>\n",
       "</table>\n",
       "</div>"
      ],
      "text/plain": [
       "               brand_reduced\n",
       "Toyota                   699\n",
       "Lexus                    176\n",
       "Mercedes-Benz            143\n",
       "Honda                    115\n",
       "Other                    103\n",
       "Ford                      46"
      ]
     },
     "execution_count": 27,
     "metadata": {},
     "output_type": "execute_result"
    }
   ],
   "source": [
    "df_brand.head(6)\n",
    "#df['brand'].value_counts().head()"
   ]
  },
  {
   "cell_type": "markdown",
   "id": "a8bd35b1",
   "metadata": {},
   "source": [
    " "
   ]
  },
  {
   "cell_type": "markdown",
   "id": "3aaafc09",
   "metadata": {},
   "source": [
    "## 3. The most fuel car sold"
   ]
  },
  {
   "cell_type": "code",
   "execution_count": 30,
   "id": "2e14fbb1",
   "metadata": {},
   "outputs": [],
   "source": [
    "df_fuel = pd.DataFrame(df['fuel'].value_counts())"
   ]
  },
  {
   "cell_type": "code",
   "execution_count": 31,
   "id": "52a9e280",
   "metadata": {},
   "outputs": [
    {
     "data": {
      "text/html": [
       "<div>\n",
       "<style scoped>\n",
       "    .dataframe tbody tr th:only-of-type {\n",
       "        vertical-align: middle;\n",
       "    }\n",
       "\n",
       "    .dataframe tbody tr th {\n",
       "        vertical-align: top;\n",
       "    }\n",
       "\n",
       "    .dataframe thead th {\n",
       "        text-align: right;\n",
       "    }\n",
       "</style>\n",
       "<table border=\"1\" class=\"dataframe\">\n",
       "  <thead>\n",
       "    <tr style=\"text-align: right;\">\n",
       "      <th></th>\n",
       "      <th>fuel</th>\n",
       "    </tr>\n",
       "  </thead>\n",
       "  <tbody>\n",
       "    <tr>\n",
       "      <th>petrol</th>\n",
       "      <td>1386</td>\n",
       "    </tr>\n",
       "    <tr>\n",
       "      <th>diesel</th>\n",
       "      <td>60</td>\n",
       "    </tr>\n",
       "  </tbody>\n",
       "</table>\n",
       "</div>"
      ],
      "text/plain": [
       "        fuel\n",
       "petrol  1386\n",
       "diesel    60"
      ]
     },
     "execution_count": 31,
     "metadata": {},
     "output_type": "execute_result"
    }
   ],
   "source": [
    "df_fuel"
   ]
  },
  {
   "cell_type": "code",
   "execution_count": 32,
   "id": "92253373",
   "metadata": {},
   "outputs": [
    {
     "data": {
      "text/plain": [
       "Text(0.5, 1.0, 'Chart for the fuel-type car')"
      ]
     },
     "execution_count": 32,
     "metadata": {},
     "output_type": "execute_result"
    },
    {
     "data": {
      "image/png": "[encoded data removed]",
      "text/plain": [
       "<Figure size 288x432 with 1 Axes>"
      ]
     },
     "metadata": {},
     "output_type": "display_data"
    }
   ],
   "source": [
    "fuel = df_fuel.plot.bar(figsize=(4,6))\n",
    "for p in fuel.patches:\n",
    "    fuel.annotate(str(p.get_height()), (p.get_x() + (p.get_width()/4), p.get_height()+15), rotation=0)\n",
    "fuel  \n",
    "plt.title(\"Chart for the fuel-type car\")"
   ]
  },
  {
   "cell_type": "markdown",
   "id": "65406cfd",
   "metadata": {},
   "source": [
    "### "
   ]
  },
  {
   "cell_type": "markdown",
   "id": "6add8e96",
   "metadata": {},
   "source": [
    "## 4. The biggest city where cars are been sold"
   ]
  },
  {
   "cell_type": "code",
   "execution_count": 33,
   "id": "7ebe7575",
   "metadata": {},
   "outputs": [
    {
     "data": {
      "text/html": [
       "<div>\n",
       "<style scoped>\n",
       "    .dataframe tbody tr th:only-of-type {\n",
       "        vertical-align: middle;\n",
       "    }\n",
       "\n",
       "    .dataframe tbody tr th {\n",
       "        vertical-align: top;\n",
       "    }\n",
       "\n",
       "    .dataframe thead th {\n",
       "        text-align: right;\n",
       "    }\n",
       "</style>\n",
       "<table border=\"1\" class=\"dataframe\">\n",
       "  <thead>\n",
       "    <tr style=\"text-align: right;\">\n",
       "      <th></th>\n",
       "      <th>location</th>\n",
       "    </tr>\n",
       "  </thead>\n",
       "  <tbody>\n",
       "    <tr>\n",
       "      <th>Lagos</th>\n",
       "      <td>1125</td>\n",
       "    </tr>\n",
       "    <tr>\n",
       "      <th>Abuja</th>\n",
       "      <td>214</td>\n",
       "    </tr>\n",
       "    <tr>\n",
       "      <th>Lagos</th>\n",
       "      <td>34</td>\n",
       "    </tr>\n",
       "    <tr>\n",
       "      <th>Ogun</th>\n",
       "      <td>34</td>\n",
       "    </tr>\n",
       "    <tr>\n",
       "      <th>Lagos State</th>\n",
       "      <td>21</td>\n",
       "    </tr>\n",
       "    <tr>\n",
       "      <th>other</th>\n",
       "      <td>5</td>\n",
       "    </tr>\n",
       "    <tr>\n",
       "      <th>Ogun State</th>\n",
       "      <td>2</td>\n",
       "    </tr>\n",
       "    <tr>\n",
       "      <th>Abuja</th>\n",
       "      <td>2</td>\n",
       "    </tr>\n",
       "    <tr>\n",
       "      <th>Abia</th>\n",
       "      <td>2</td>\n",
       "    </tr>\n",
       "    <tr>\n",
       "      <th>FCT</th>\n",
       "      <td>2</td>\n",
       "    </tr>\n",
       "    <tr>\n",
       "      <th>Adamawa</th>\n",
       "      <td>1</td>\n",
       "    </tr>\n",
       "    <tr>\n",
       "      <th>Abia State</th>\n",
       "      <td>1</td>\n",
       "    </tr>\n",
       "    <tr>\n",
       "      <th>Arepo ogun state</th>\n",
       "      <td>1</td>\n",
       "    </tr>\n",
       "    <tr>\n",
       "      <th>Accra</th>\n",
       "      <td>1</td>\n",
       "    </tr>\n",
       "    <tr>\n",
       "      <th>Mushin</th>\n",
       "      <td>1</td>\n",
       "    </tr>\n",
       "  </tbody>\n",
       "</table>\n",
       "</div>"
      ],
      "text/plain": [
       "                   location\n",
       "Lagos                  1125\n",
       "Abuja                   214\n",
       "Lagos                    34\n",
       "Ogun                     34\n",
       "Lagos State              21\n",
       "other                     5\n",
       "Ogun State                2\n",
       "Abuja                     2\n",
       "Abia                      2\n",
       "FCT                       2\n",
       "Adamawa                   1\n",
       "Abia State                1\n",
       "Arepo ogun state          1\n",
       "Accra                     1\n",
       "Mushin                    1"
      ]
     },
     "execution_count": 33,
     "metadata": {},
     "output_type": "execute_result"
    }
   ],
   "source": [
    "df_location = pd.DataFrame(df['location'].value_counts())\n",
    "df_location"
   ]
  },
  {
   "cell_type": "code",
   "execution_count": 34,
   "id": "ef45e8ee",
   "metadata": {},
   "outputs": [
    {
     "data": {
      "text/plain": [
       "Index(['Lagos', 'Abuja', 'Lagos ', 'Ogun', 'Lagos State', 'other',\n",
       "       'Ogun State', 'Abuja ', 'Abia', 'FCT', 'Adamawa ', 'Abia State',\n",
       "       'Arepo ogun state ', 'Accra', 'Mushin'],\n",
       "      dtype='object')"
      ]
     },
     "execution_count": 34,
     "metadata": {},
     "output_type": "execute_result"
    }
   ],
   "source": [
    "#check the index of location, and why different states appeared more than 1\n",
    "df.location.value_counts().index"
   ]
  },
  {
   "cell_type": "code",
   "execution_count": 35,
   "id": "0ba95ae0",
   "metadata": {},
   "outputs": [],
   "source": [
    "#replace the wrong spelt location\n",
    "df[\"location\"] = df[\"location\"].str.replace(\"Lagos State\",\"Lagos\")\n",
    "df[\"location\"] = df[\"location\"].str.replace(\"Lagos \",\"Lagos\")\n",
    "df[\"location\"] = df[\"location\"].str.replace(\"Ogun State\",\"Ogun\")\n",
    "df[\"location\"] = df[\"location\"].str.replace(\"Ogun \",\"Ogun\")\n",
    "df[\"location\"] = df[\"location\"].str.replace(\"Abia State\",\"Abia\")\n",
    "df[\"location\"] = df[\"location\"].str.replace(\"FCT\",\"Abuja\")\n",
    "df[\"location\"] = df[\"location\"].str.replace(\"Mushin\",\"Lagos\")\n",
    "df[\"location\"] = df[\"location\"].str.replace(\"Lagos State\",\"Lagos\")\n",
    "df[\"location\"] = df[\"location\"].str.replace(\"Arepo ogun state\",\"Ogun\")\n",
    "df[\"location\"] = df[\"location\"].str.replace(\"Lagos\",\"Lagos\")"
   ]
  },
  {
   "cell_type": "code",
   "execution_count": 36,
   "id": "c6f0a720",
   "metadata": {},
   "outputs": [
    {
     "data": {
      "text/html": [
       "<div>\n",
       "<style scoped>\n",
       "    .dataframe tbody tr th:only-of-type {\n",
       "        vertical-align: middle;\n",
       "    }\n",
       "\n",
       "    .dataframe tbody tr th {\n",
       "        vertical-align: top;\n",
       "    }\n",
       "\n",
       "    .dataframe thead th {\n",
       "        text-align: right;\n",
       "    }\n",
       "</style>\n",
       "<table border=\"1\" class=\"dataframe\">\n",
       "  <thead>\n",
       "    <tr style=\"text-align: right;\">\n",
       "      <th></th>\n",
       "      <th>location</th>\n",
       "    </tr>\n",
       "  </thead>\n",
       "  <tbody>\n",
       "    <tr>\n",
       "      <th>Lagos</th>\n",
       "      <td>1181</td>\n",
       "    </tr>\n",
       "    <tr>\n",
       "      <th>Abuja</th>\n",
       "      <td>216</td>\n",
       "    </tr>\n",
       "    <tr>\n",
       "      <th>Ogun</th>\n",
       "      <td>36</td>\n",
       "    </tr>\n",
       "    <tr>\n",
       "      <th>other</th>\n",
       "      <td>5</td>\n",
       "    </tr>\n",
       "    <tr>\n",
       "      <th>Abia</th>\n",
       "      <td>3</td>\n",
       "    </tr>\n",
       "    <tr>\n",
       "      <th>Abuja</th>\n",
       "      <td>2</td>\n",
       "    </tr>\n",
       "    <tr>\n",
       "      <th>Adamawa</th>\n",
       "      <td>1</td>\n",
       "    </tr>\n",
       "    <tr>\n",
       "      <th>Ogun</th>\n",
       "      <td>1</td>\n",
       "    </tr>\n",
       "    <tr>\n",
       "      <th>Accra</th>\n",
       "      <td>1</td>\n",
       "    </tr>\n",
       "  </tbody>\n",
       "</table>\n",
       "</div>"
      ],
      "text/plain": [
       "          location\n",
       "Lagos         1181\n",
       "Abuja          216\n",
       "Ogun            36\n",
       "other            5\n",
       "Abia             3\n",
       "Abuja            2\n",
       "Adamawa          1\n",
       "Ogun             1\n",
       "Accra            1"
      ]
     },
     "execution_count": 36,
     "metadata": {},
     "output_type": "execute_result"
    }
   ],
   "source": [
    "df_location = pd.DataFrame(df['location'].value_counts())\n",
    "df_location"
   ]
  },
  {
   "cell_type": "code",
   "execution_count": 37,
   "id": "5f0a5053",
   "metadata": {},
   "outputs": [
    {
     "data": {
      "text/plain": [
       "Text(0.5, 1.0, 'Chart for the Location')"
      ]
     },
     "execution_count": 37,
     "metadata": {},
     "output_type": "execute_result"
    },
    {
     "data": {
      "image/png": "[encoded data removed]",
      "text/plain": [
       "<Figure size 936x432 with 1 Axes>"
      ]
     },
     "metadata": {},
     "output_type": "display_data"
    }
   ],
   "source": [
    "#plot bar of location\n",
    "location_bar = df_location.plot.bar(figsize=(13,6))\n",
    "for p in location_bar.patches:\n",
    "    location_bar.annotate(str(p.get_height()), (p.get_x() + (p.get_width()/3), p.get_height()+15), rotation=0)\n",
    "location_bar  \n",
    "plt.title(\"Chart for the Location\")"
   ]
  },
  {
   "cell_type": "markdown",
   "id": "c6fb3d0a",
   "metadata": {},
   "source": [
    "### 5. Check if the highest of the cars sold are imported, locally used, or brand new"
   ]
  },
  {
   "cell_type": "code",
   "execution_count": 38,
   "id": "c1a14cb5",
   "metadata": {},
   "outputs": [
    {
     "data": {
      "text/html": [
       "<div>\n",
       "<style scoped>\n",
       "    .dataframe tbody tr th:only-of-type {\n",
       "        vertical-align: middle;\n",
       "    }\n",
       "\n",
       "    .dataframe tbody tr th {\n",
       "        vertical-align: top;\n",
       "    }\n",
       "\n",
       "    .dataframe thead th {\n",
       "        text-align: right;\n",
       "    }\n",
       "</style>\n",
       "<table border=\"1\" class=\"dataframe\">\n",
       "  <thead>\n",
       "    <tr style=\"text-align: right;\">\n",
       "      <th></th>\n",
       "      <th>isimported</th>\n",
       "    </tr>\n",
       "  </thead>\n",
       "  <tbody>\n",
       "    <tr>\n",
       "      <th>Foreign Used</th>\n",
       "      <td>1065</td>\n",
       "    </tr>\n",
       "    <tr>\n",
       "      <th>Locally used</th>\n",
       "      <td>340</td>\n",
       "    </tr>\n",
       "    <tr>\n",
       "      <th>New</th>\n",
       "      <td>41</td>\n",
       "    </tr>\n",
       "  </tbody>\n",
       "</table>\n",
       "</div>"
      ],
      "text/plain": [
       "              isimported\n",
       "Foreign Used        1065\n",
       "Locally used         340\n",
       "New                   41"
      ]
     },
     "execution_count": 38,
     "metadata": {},
     "output_type": "execute_result"
    }
   ],
   "source": [
    "df_imported = pd.DataFrame(df['isimported'].value_counts())\n",
    "df_imported"
   ]
  },
  {
   "cell_type": "code",
   "execution_count": 66,
   "id": "39d26d7e",
   "metadata": {},
   "outputs": [
    {
     "data": {
      "text/plain": [
       "Text(0.5, 1.0, 'Import Status')"
      ]
     },
     "execution_count": 66,
     "metadata": {},
     "output_type": "execute_result"
    },
    {
     "data": {
      "image/png": "[encoded data removed]",
      "text/plain": [
       "<Figure size 432x432 with 1 Axes>"
      ]
     },
     "metadata": {},
     "output_type": "display_data"
    }
   ],
   "source": [
    "import_bar = df_imported.plot.bar(figsize=(6,6))\n",
    "for p in import_bar.patches:\n",
    "    import_bar.annotate(str(p.get_height()), (p.get_x() + (p.get_width()/3), p.get_height()+15), rotation=0)\n",
    "import_bar  \n",
    "plt.title(\"Import Status\")\n"
   ]
  },
  {
   "cell_type": "markdown",
   "id": "5d20fc04",
   "metadata": {},
   "source": [
    " "
   ]
  },
  {
   "cell_type": "markdown",
   "id": "80bde2b9",
   "metadata": {},
   "source": [
    "## 6. Check for the 3 engines that are most popular\n"
   ]
  },
  {
   "cell_type": "code",
   "execution_count": 40,
   "id": "5a4780c2",
   "metadata": {},
   "outputs": [
    {
     "data": {
      "text/html": [
       "<div>\n",
       "<style scoped>\n",
       "    .dataframe tbody tr th:only-of-type {\n",
       "        vertical-align: middle;\n",
       "    }\n",
       "\n",
       "    .dataframe tbody tr th {\n",
       "        vertical-align: top;\n",
       "    }\n",
       "\n",
       "    .dataframe thead th {\n",
       "        text-align: right;\n",
       "    }\n",
       "</style>\n",
       "<table border=\"1\" class=\"dataframe\">\n",
       "  <thead>\n",
       "    <tr style=\"text-align: right;\">\n",
       "      <th></th>\n",
       "      <th>engine</th>\n",
       "    </tr>\n",
       "  </thead>\n",
       "  <tbody>\n",
       "    <tr>\n",
       "      <th>4-cylinder(I4)</th>\n",
       "      <td>895</td>\n",
       "    </tr>\n",
       "    <tr>\n",
       "      <th>6-cylinder(V6)</th>\n",
       "      <td>309</td>\n",
       "    </tr>\n",
       "    <tr>\n",
       "      <th>6-cylinder(I6)</th>\n",
       "      <td>162</td>\n",
       "    </tr>\n",
       "    <tr>\n",
       "      <th>8-cylinder(V8)</th>\n",
       "      <td>68</td>\n",
       "    </tr>\n",
       "    <tr>\n",
       "      <th>3-cylinder(I3)</th>\n",
       "      <td>4</td>\n",
       "    </tr>\n",
       "    <tr>\n",
       "      <th>5-cylinder(I5)</th>\n",
       "      <td>3</td>\n",
       "    </tr>\n",
       "    <tr>\n",
       "      <th>4-cylinder(H4)</th>\n",
       "      <td>2</td>\n",
       "    </tr>\n",
       "    <tr>\n",
       "      <th>2-cylinder(I2)</th>\n",
       "      <td>2</td>\n",
       "    </tr>\n",
       "    <tr>\n",
       "      <th>12-cylinder(V12)</th>\n",
       "      <td>1</td>\n",
       "    </tr>\n",
       "  </tbody>\n",
       "</table>\n",
       "</div>"
      ],
      "text/plain": [
       "                  engine\n",
       "4-cylinder(I4)       895\n",
       "6-cylinder(V6)       309\n",
       "6-cylinder(I6)       162\n",
       "8-cylinder(V8)        68\n",
       "3-cylinder(I3)         4\n",
       "5-cylinder(I5)         3\n",
       "4-cylinder(H4)         2\n",
       "2-cylinder(I2)         2\n",
       "12-cylinder(V12)       1"
      ]
     },
     "execution_count": 40,
     "metadata": {},
     "output_type": "execute_result"
    }
   ],
   "source": [
    "df_engine = pd.DataFrame(df['engine'].value_counts())\n",
    "df_engine"
   ]
  },
  {
   "cell_type": "code",
   "execution_count": 41,
   "id": "59f7ac3d",
   "metadata": {},
   "outputs": [
    {
     "data": {
      "text/plain": [
       "Text(0.5, 1.0, 'Engine Type')"
      ]
     },
     "execution_count": 41,
     "metadata": {},
     "output_type": "execute_result"
    },
    {
     "data": {
      "image/png": "[encoded data removed]",
      "text/plain": [
       "<Figure size 936x432 with 1 Axes>"
      ]
     },
     "metadata": {},
     "output_type": "display_data"
    }
   ],
   "source": [
    "engine_bar = df_engine.plot.bar(figsize=(13,6))\n",
    "for p in engine_bar.patches:\n",
    "    engine_bar.annotate(str(p.get_height()), (p.get_x() + (p.get_width()/3), p.get_height()+15), rotation=0)\n",
    "engine_bar  \n",
    "plt.title(\"Engine Type\")\n"
   ]
  },
  {
   "cell_type": "markdown",
   "id": "923027dd",
   "metadata": {},
   "source": [
    "## 7. Do people prefer automatic transmission than manual or otherwise?"
   ]
  },
  {
   "cell_type": "code",
   "execution_count": 42,
   "id": "ffbff93e",
   "metadata": {},
   "outputs": [
    {
     "data": {
      "text/html": [
       "<div>\n",
       "<style scoped>\n",
       "    .dataframe tbody tr th:only-of-type {\n",
       "        vertical-align: middle;\n",
       "    }\n",
       "\n",
       "    .dataframe tbody tr th {\n",
       "        vertical-align: top;\n",
       "    }\n",
       "\n",
       "    .dataframe thead th {\n",
       "        text-align: right;\n",
       "    }\n",
       "</style>\n",
       "<table border=\"1\" class=\"dataframe\">\n",
       "  <thead>\n",
       "    <tr style=\"text-align: right;\">\n",
       "      <th></th>\n",
       "      <th>transmission</th>\n",
       "    </tr>\n",
       "  </thead>\n",
       "  <tbody>\n",
       "    <tr>\n",
       "      <th>automatic</th>\n",
       "      <td>1379</td>\n",
       "    </tr>\n",
       "    <tr>\n",
       "      <th>manual</th>\n",
       "      <td>67</td>\n",
       "    </tr>\n",
       "  </tbody>\n",
       "</table>\n",
       "</div>"
      ],
      "text/plain": [
       "           transmission\n",
       "automatic          1379\n",
       "manual               67"
      ]
     },
     "execution_count": 42,
     "metadata": {},
     "output_type": "execute_result"
    }
   ],
   "source": [
    "df_transmission = pd.DataFrame(df['transmission'].value_counts())\n",
    "df_transmission"
   ]
  },
  {
   "cell_type": "code",
   "execution_count": 43,
   "id": "4bb52da1",
   "metadata": {},
   "outputs": [
    {
     "data": {
      "text/plain": [
       "Text(0.5, 1.0, 'Engine Type')"
      ]
     },
     "execution_count": 43,
     "metadata": {},
     "output_type": "execute_result"
    },
    {
     "data": {
      "image/png": "[encoded data removed]",
      "text/plain": [
       "<Figure size 432x432 with 1 Axes>"
      ]
     },
     "metadata": {},
     "output_type": "display_data"
    }
   ],
   "source": [
    "trans_bar = df_transmission.plot.bar(figsize=(6,6))\n",
    "for p in trans_bar.patches:\n",
    "    trans_bar.annotate(str(p.get_height()), (p.get_x() + (p.get_width()/3), p.get_height()+15), rotation=0)\n",
    "trans_bar  \n",
    "plt.title(\"Engine Type\")\n"
   ]
  },
  {
   "cell_type": "markdown",
   "id": "b1574470",
   "metadata": {},
   "source": [
    "### "
   ]
  },
  {
   "cell_type": "markdown",
   "id": "e3558d8a",
   "metadata": {},
   "source": [
    "## 8. Is price of the car affected by the odometer/mileage?"
   ]
  },
  {
   "cell_type": "code",
   "execution_count": 83,
   "id": "31c052ba",
   "metadata": {},
   "outputs": [
    {
     "data": {
      "image/png": "[encoded data removed]",
      "text/plain": [
       "<Figure size 576x396 with 1 Axes>"
      ]
     },
     "metadata": {},
     "output_type": "display_data"
    }
   ],
   "source": [
    "plt.scatter(np.log10(1+df.odometer), df.log_price, alpha=0.25)\n",
    "plt.title('Log10(Price) vs Log10(1+Miles)')\n",
    "plt.show()"
   ]
  },
  {
   "cell_type": "markdown",
   "id": "e3db0965",
   "metadata": {},
   "source": [
    "##### Price goes down when there is increase in number of miles driven."
   ]
  },
  {
   "cell_type": "markdown",
   "id": "408d20f3",
   "metadata": {},
   "source": [
    " "
   ]
  },
  {
   "cell_type": "markdown",
   "id": "b4031969",
   "metadata": {},
   "source": [
    "## 9. Did year affect the price?"
   ]
  },
  {
   "cell_type": "code",
   "execution_count": 70,
   "id": "b04b4d50",
   "metadata": {},
   "outputs": [],
   "source": [
    "df['log_price'] = np.log(df.price)"
   ]
  },
  {
   "cell_type": "code",
   "execution_count": 84,
   "id": "f2ecfa91",
   "metadata": {
    "scrolled": true
   },
   "outputs": [
    {
     "data": {
      "image/png": "[encoded data removed]",
      "text/plain": [
       "<Figure size 576x396 with 1 Axes>"
      ]
     },
     "metadata": {},
     "output_type": "display_data"
    }
   ],
   "source": [
    "#scatter plot\n",
    "plt.scatter(df.year, df.log_price, alpha=0.25)\n",
    "plt.title('Log(Price) vs Year')\n",
    "plt.show()"
   ]
  },
  {
   "cell_type": "markdown",
   "id": "cec0d404",
   "metadata": {},
   "source": [
    "##### We see an increase in price trend over time starting around year 2000"
   ]
  },
  {
   "cell_type": "markdown",
   "id": "3ea3f68c",
   "metadata": {},
   "source": [
    "### "
   ]
  },
  {
   "cell_type": "markdown",
   "id": "aec6c6c8",
   "metadata": {},
   "source": [
    "## 10. Get yearly sales"
   ]
  },
  {
   "cell_type": "code",
   "execution_count": 49,
   "id": "b5965811",
   "metadata": {},
   "outputs": [
    {
     "data": {
      "image/png": "[encoded data removed]",
      "text/plain": [
       "<Figure size 576x288 with 1 Axes>"
      ]
     },
     "metadata": {},
     "output_type": "display_data"
    }
   ],
   "source": [
    "#Sales Yearly\n",
    "plt.figure(figsize=(8,4))\n",
    "df.year.value_counts().sort_index().plot(kind='bar')\n",
    "plt.title('Year')\n",
    "plt.grid()\n",
    "plt.show()"
   ]
  },
  {
   "cell_type": "markdown",
   "id": "4fbcbcc7",
   "metadata": {},
   "source": [
    "### "
   ]
  },
  {
   "cell_type": "markdown",
   "id": "26a64a3c",
   "metadata": {},
   "source": [
    "### Result"
   ]
  },
  {
   "cell_type": "markdown",
   "id": "11498252",
   "metadata": {},
   "source": [
    "1. The highest brand that people patronize most is - Toyota\n",
    "2. The 5 cars/brand with highest number of sales are\n",
    "   (Toyota, Lexus, Mercedes-Benz, Honda, Ford)\n",
    "3. The most fuel-type of car sold - Petrol\n",
    "4. The biggest city where cars are been sold - Lagos\n",
    "5. Most of the cars sold were imported\n",
    "6. The 3 engines that are most popular are:\n",
    "   (4-cylinder(I4), 6-cylinder(V6), 6-cylinder(I6) \n",
    "7. The result shows that people prefer automatic than manual\n",
    "8. The increase the mileage, the lower the price of the car\n",
    "9. Years affects price of cars"
   ]
  },
  {
   "cell_type": "code",
   "execution_count": null,
   "id": "c651f4b1",
   "metadata": {},
   "outputs": [],
   "source": []
  }
 ],
 "metadata": {
  "kernelspec": {
   "display_name": "Python 3 (ipykernel)",
   "language": "python",
   "name": "python3"
  },
  "language_info": {
   "codemirror_mode": {
    "name": "ipython",
    "version": 3
   },
   "file_extension": ".py",
   "mimetype": "text/x-python",
   "name": "python",
   "nbconvert_exporter": "python",
   "pygments_lexer": "ipython3",
   "version": "3.9.12"
  }
 },
 "nbformat": 4,
 "nbformat_minor": 5
}
