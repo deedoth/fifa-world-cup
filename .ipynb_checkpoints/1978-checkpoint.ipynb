{
 "cells": [
  {
   "cell_type": "code",
   "execution_count": 1,
   "id": "a8583f7a",
   "metadata": {},
   "outputs": [],
   "source": [
    "import pandas as pd\n",
    "import numpy as np\n",
    "import seaborn as sb\n",
    "import matplotlib.pyplot as plt\n",
    "%matplotlib inline\n",
    "\n",
    "import requests"
   ]
  },
  {
   "cell_type": "code",
   "execution_count": 2,
   "id": "5e7f644f",
   "metadata": {},
   "outputs": [],
   "source": [
    "from bs4 import BeautifulSoup"
   ]
  },
  {
   "cell_type": "code",
   "execution_count": 3,
   "id": "6d32a28c",
   "metadata": {},
   "outputs": [],
   "source": [
    "year = ['1930', '1934', '1938','1950', '1954', '1958','1962','1966','1970','1974','1978','1982',\n",
    "        '1986','1990','1994','1998','2002','2006','2010','2014','2018']"
   ]
  },
  {
   "cell_type": "code",
   "execution_count": 4,
   "id": "7394e3da",
   "metadata": {},
   "outputs": [],
   "source": [
    "web = 'https://en.wikipedia.org/wiki/1974_FIFA_World_Cup'"
   ]
  },
  {
   "cell_type": "code",
   "execution_count": 5,
   "id": "1e3fb425",
   "metadata": {},
   "outputs": [],
   "source": [
    "response = requests.get(web)"
   ]
  },
  {
   "cell_type": "code",
   "execution_count": 6,
   "id": "3c629f34",
   "metadata": {},
   "outputs": [],
   "source": [
    "content = response.text"
   ]
  },
  {
   "cell_type": "code",
   "execution_count": 7,
   "id": "679b4a68",
   "metadata": {},
   "outputs": [],
   "source": [
    "soup = BeautifulSoup(content, 'lxml')"
   ]
  },
  {
   "cell_type": "code",
   "execution_count": 8,
   "id": "2ec054da",
   "metadata": {},
   "outputs": [],
   "source": [
    "#table = soup.find('tr', {'style':'background:gold'})\n",
    "table = soup.find('tr', {'style':'text-align: center;font-weight: normal;background-color:gold;'})"
   ]
  },
  {
   "cell_type": "code",
   "execution_count": 9,
   "id": "4c1ccfaf",
   "metadata": {},
   "outputs": [],
   "source": [
    "table"
   ]
  },
  {
   "cell_type": "code",
   "execution_count": 10,
   "id": "53f20598",
   "metadata": {},
   "outputs": [
    {
     "ename": "AttributeError",
     "evalue": "'NoneType' object has no attribute 'find'",
     "output_type": "error",
     "traceback": [
      "\u001b[1;31m---------------------------------------------------------------------------\u001b[0m",
      "\u001b[1;31mAttributeError\u001b[0m                            Traceback (most recent call last)",
      "Input \u001b[1;32mIn [10]\u001b[0m, in \u001b[0;36m<cell line: 1>\u001b[1;34m()\u001b[0m\n\u001b[1;32m----> 1\u001b[0m sn \u001b[38;5;241m=\u001b[39m \u001b[43mtable\u001b[49m\u001b[38;5;241;43m.\u001b[39;49m\u001b[43mfind\u001b[49m(\u001b[38;5;124m'\u001b[39m\u001b[38;5;124mtd\u001b[39m\u001b[38;5;124m'\u001b[39m)\n\u001b[0;32m      2\u001b[0m team_ \u001b[38;5;241m=\u001b[39m sn\u001b[38;5;241m.\u001b[39mfind_next_sibling(\u001b[38;5;124m'\u001b[39m\u001b[38;5;124mtd\u001b[39m\u001b[38;5;124m'\u001b[39m)\n\u001b[0;32m      3\u001b[0m team \u001b[38;5;241m=\u001b[39m team_\u001b[38;5;241m.\u001b[39mtext\n",
      "\u001b[1;31mAttributeError\u001b[0m: 'NoneType' object has no attribute 'find'"
     ]
    }
   ],
   "source": [
    "sn = table.find('td')\n",
    "team_ = sn.find_next_sibling('td')\n",
    "team = team_.text\n",
    "team = team[1:]\n",
    "group_ = team_.find_next_sibling('td')\n",
    "group = group_.text\n",
    "total_game_played_ = group_.find_next_sibling('td')\n",
    "total_game_played = total_game_played_.text\n",
    "win_ = total_game_played_.find_next_sibling('td')\n",
    "win = win_.text\n",
    "draw_ = win_.find_next_sibling('td')\n",
    "draw = draw_.text\n",
    "loss_ = draw_.find_next_sibling('td')\n",
    "loss = loss_.text\n",
    "points_ = loss_.find_next_sibling('td')\n",
    "points = points_.text\n",
    "total_goals_scored_ = points_.find_next_sibling('td')\n",
    "total_goals_scored = total_goals_scored_.text\n",
    "total_goals_conceded_ = total_goals_scored_.find_next_sibling('td')\n",
    "total_goals_conceded = total_goals_conceded_.text\n",
    "goal_diff_ = total_goals_conceded_.find_next_sibling('td')\n",
    "goal_diff = goal_diff_.text"
   ]
  },
  {
   "cell_type": "code",
   "execution_count": null,
   "id": "ed70d191",
   "metadata": {},
   "outputs": [],
   "source": []
  },
  {
   "cell_type": "code",
   "execution_count": null,
   "id": "1f12dc6f",
   "metadata": {},
   "outputs": [],
   "source": [
    "team, group,total_game_played, win, draw, loss, points, total_goals_scored, total_goals_conceded, goal_diff"
   ]
  },
  {
   "cell_type": "markdown",
   "id": "8565de05",
   "metadata": {},
   "source": [
    "### Runner Up Team"
   ]
  },
  {
   "cell_type": "code",
   "execution_count": null,
   "id": "012e8304",
   "metadata": {},
   "outputs": [],
   "source": [
    "runner_up_team = soup.find('tr', {'style':'text-align: center;font-weight: normal;background-color:silver;'})"
   ]
  },
  {
   "cell_type": "code",
   "execution_count": null,
   "id": "6e39cde9",
   "metadata": {},
   "outputs": [],
   "source": [
    "runner_up = runner_up_team.find('a', {'title':'Netherlands national football team'}).text"
   ]
  },
  {
   "cell_type": "code",
   "execution_count": null,
   "id": "bce4ac81",
   "metadata": {},
   "outputs": [],
   "source": [
    "runner_up"
   ]
  },
  {
   "cell_type": "markdown",
   "id": "4a24c4ff",
   "metadata": {},
   "source": [
    "### Awards"
   ]
  },
  {
   "cell_type": "code",
   "execution_count": null,
   "id": "5a929fdb",
   "metadata": {},
   "outputs": [],
   "source": [
    "#golden_ball = soup.find('a', attrs= {'title': 'Lionel Messi'}).text\n",
    "golden_ball = np.nan\n",
    "#golden_boot = soup.find('a', attrs= {'title': 'Gerd Müller'}).text\n",
    "golden_boot = np.nan\n",
    "#golden_glove = soup.find('a', attrs= {'title': 'Manuel Neuer'}).text\n",
    "golden_glove = np.nan"
   ]
  },
  {
   "cell_type": "markdown",
   "id": "9c4c29d5",
   "metadata": {},
   "source": [
    "### Refree That Blew Final"
   ]
  },
  {
   "cell_type": "code",
   "execution_count": null,
   "id": "64f13ca6",
   "metadata": {},
   "outputs": [],
   "source": [
    "#refree = soup.find('a', attrs= {'title': 'Jack Taylor'}).text\n",
    "refree = 'Jack Taylor'"
   ]
  },
  {
   "cell_type": "code",
   "execution_count": null,
   "id": "784edff4",
   "metadata": {},
   "outputs": [],
   "source": [
    "refree"
   ]
  },
  {
   "cell_type": "markdown",
   "id": "94388b87",
   "metadata": {},
   "source": [
    "### Year"
   ]
  },
  {
   "cell_type": "code",
   "execution_count": null,
   "id": "4539f5fb",
   "metadata": {},
   "outputs": [],
   "source": [
    "year = soup.find('span', {'class':\"mw-page-title-main\"}).text"
   ]
  },
  {
   "cell_type": "code",
   "execution_count": null,
   "id": "808b12e3",
   "metadata": {},
   "outputs": [],
   "source": [
    "year = year[:4]\n",
    "year"
   ]
  },
  {
   "cell_type": "markdown",
   "id": "cd07b96e",
   "metadata": {},
   "source": [
    "### Host Country"
   ]
  },
  {
   "cell_type": "code",
   "execution_count": null,
   "id": "d4ea7762",
   "metadata": {},
   "outputs": [],
   "source": [
    "#soup.p.next_element"
   ]
  },
  {
   "cell_type": "code",
   "execution_count": null,
   "id": "5d89247c",
   "metadata": {},
   "outputs": [],
   "source": [
    "#host = soup.find('a', {'title':\"Uruguay national football team\"}).text\n",
    "host = 'West Germany'"
   ]
  },
  {
   "cell_type": "code",
   "execution_count": null,
   "id": "c126c2f2",
   "metadata": {},
   "outputs": [],
   "source": [
    "host"
   ]
  },
  {
   "cell_type": "markdown",
   "id": "965a0f2a",
   "metadata": {},
   "source": [
    "### Prize"
   ]
  },
  {
   "cell_type": "code",
   "execution_count": null,
   "id": "4e8d37f0",
   "metadata": {},
   "outputs": [],
   "source": [
    "prize = np.nan"
   ]
  },
  {
   "cell_type": "code",
   "execution_count": null,
   "id": "7b1dfd7e",
   "metadata": {},
   "outputs": [],
   "source": []
  },
  {
   "cell_type": "code",
   "execution_count": null,
   "id": "08be46b7",
   "metadata": {},
   "outputs": [],
   "source": [
    "winner = {'Team': team, 'G':group, 'Pld':total_game_played, 'W':win, 'D':draw, 'L':loss, 'Pts':points, \n",
    "            'GF':total_goals_scored, 'GA':total_goals_conceded, 'GD':goal_diff, 'Golden Ball': golden_ball, \n",
    "            'Golden Boot':golden_boot, 'Golden Glove':golden_glove, 'Prize': prize, 'Year': year, 'Refree':refree, 'Host': host, 'Runner_up':runner_up}"
   ]
  },
  {
   "cell_type": "code",
   "execution_count": null,
   "id": "5b8b8807",
   "metadata": {},
   "outputs": [],
   "source": []
  },
  {
   "cell_type": "code",
   "execution_count": null,
   "id": "4d1eeb6d",
   "metadata": {},
   "outputs": [],
   "source": [
    "df_winner = pd.DataFrame(winner, index=[0])"
   ]
  },
  {
   "cell_type": "code",
   "execution_count": null,
   "id": "2c05e901",
   "metadata": {},
   "outputs": [],
   "source": [
    "df_winner"
   ]
  },
  {
   "cell_type": "markdown",
   "id": "d49df13c",
   "metadata": {},
   "source": [
    " "
   ]
  },
  {
   "cell_type": "code",
   "execution_count": null,
   "id": "46e06d2c",
   "metadata": {},
   "outputs": [],
   "source": []
  }
 ],
 "metadata": {
  "kernelspec": {
   "display_name": "Python 3 (ipykernel)",
   "language": "python",
   "name": "python3"
  },
  "language_info": {
   "codemirror_mode": {
    "name": "ipython",
    "version": 3
   },
   "file_extension": ".py",
   "mimetype": "text/x-python",
   "name": "python",
   "nbconvert_exporter": "python",
   "pygments_lexer": "ipython3",
   "version": "3.9.12"
  }
 },
 "nbformat": 4,
 "nbformat_minor": 5
}
