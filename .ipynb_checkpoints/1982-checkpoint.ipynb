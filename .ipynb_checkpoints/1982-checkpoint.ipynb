{
 "cells": [
  {
   "cell_type": "code",
   "execution_count": 1,
   "id": "a8583f7a",
   "metadata": {},
   "outputs": [],
   "source": [
    "import pandas as pd\n",
    "import numpy as np\n",
    "import seaborn as sb\n",
    "import matplotlib.pyplot as plt\n",
    "%matplotlib inline\n",
    "\n",
    "import requests"
   ]
  },
  {
   "cell_type": "code",
   "execution_count": 2,
   "id": "5e7f644f",
   "metadata": {},
   "outputs": [],
   "source": [
    "from bs4 import BeautifulSoup"
   ]
  },
  {
   "cell_type": "code",
   "execution_count": 3,
   "id": "6d32a28c",
   "metadata": {},
   "outputs": [],
   "source": [
    "year = ['1930', '1934', '1938','1950', '1954', '1958','1962','1966','1970','1974','1978','1982',\n",
    "        '1986','1990','1994','1998','2002','2006','2010','2014','2018']"
   ]
  },
  {
   "cell_type": "code",
   "execution_count": 4,
   "id": "7394e3da",
   "metadata": {},
   "outputs": [],
   "source": [
    "web = 'https://en.wikipedia.org/wiki/1982_FIFA_World_Cup'"
   ]
  },
  {
   "cell_type": "code",
   "execution_count": 5,
   "id": "1e3fb425",
   "metadata": {},
   "outputs": [],
   "source": [
    "response = requests.get(web)"
   ]
  },
  {
   "cell_type": "code",
   "execution_count": 6,
   "id": "3c629f34",
   "metadata": {},
   "outputs": [],
   "source": [
    "content = response.text"
   ]
  },
  {
   "cell_type": "code",
   "execution_count": 7,
   "id": "679b4a68",
   "metadata": {},
   "outputs": [],
   "source": [
    "soup = BeautifulSoup(content, 'lxml')"
   ]
  },
  {
   "cell_type": "code",
   "execution_count": 8,
   "id": "2ec054da",
   "metadata": {},
   "outputs": [],
   "source": [
    "table = soup.find('tr', {'style':'background:gold'})"
   ]
  },
  {
   "cell_type": "code",
   "execution_count": 9,
   "id": "4c1ccfaf",
   "metadata": {},
   "outputs": [
    {
     "data": {
      "text/plain": [
       "<tr style=\"background:gold\">\n",
       "<td>1</td>\n",
       "<td style=\"text-align:left\"><span style=\"white-space:nowrap\"><span class=\"flagicon\"><img alt=\"\" class=\"thumbborder\" data-file-height=\"600\" data-file-width=\"1000\" decoding=\"async\" height=\"14\" src=\"//upload.wikimedia.org/wikipedia/en/thumb/b/ba/Flag_of_Germany.svg/23px-Flag_of_Germany.svg.png\" srcset=\"//upload.wikimedia.org/wikipedia/en/thumb/b/ba/Flag_of_Germany.svg/35px-Flag_of_Germany.svg.png 1.5x, //upload.wikimedia.org/wikipedia/en/thumb/b/ba/Flag_of_Germany.svg/46px-Flag_of_Germany.svg.png 2x\" width=\"23\"/> </span><a href=\"/wiki/Germany_national_football_team\" title=\"Germany national football team\">West Germany</a></span></td>\n",
       "<td><a href=\"#Group_1\">1</a>/<a href=\"#Group_B\">B</a></td>\n",
       "<td>7</td>\n",
       "<td>6</td>\n",
       "<td>0</td>\n",
       "<td>1</td>\n",
       "<td>13</td>\n",
       "<td>4</td>\n",
       "<td>+9</td>\n",
       "<td>12\n",
       "</td></tr>"
      ]
     },
     "execution_count": 9,
     "metadata": {},
     "output_type": "execute_result"
    }
   ],
   "source": [
    "#table"
   ]
  },
  {
   "cell_type": "code",
   "execution_count": 10,
   "id": "53f20598",
   "metadata": {},
   "outputs": [],
   "source": [
    "sn = table.find('td')\n",
    "team_ = sn.find_next_sibling('td')\n",
    "team = team_.text\n",
    "team = team[1:]\n",
    "group_ = team_.find_next_sibling('td')\n",
    "group = group_.text\n",
    "total_game_played_ = group_.find_next_sibling('td')\n",
    "total_game_played = total_game_played_.text\n",
    "win_ = total_game_played_.find_next_sibling('td')\n",
    "win = win_.text\n",
    "draw_ = win_.find_next_sibling('td')\n",
    "draw = draw_.text\n",
    "loss_ = draw_.find_next_sibling('td')\n",
    "loss = loss_.text\n",
    "points_ = loss_.find_next_sibling('td')\n",
    "points = points_.text\n",
    "total_goals_scored_ = points_.find_next_sibling('td')\n",
    "total_goals_scored = total_goals_scored_.text\n",
    "total_goals_conceded_ = total_goals_scored_.find_next_sibling('td')\n",
    "total_goals_conceded = total_goals_conceded_.text\n",
    "goal_diff_ = total_goals_conceded_.find_next_sibling('td')\n",
    "goal_diff = goal_diff_.text"
   ]
  },
  {
   "cell_type": "code",
   "execution_count": null,
   "id": "ed70d191",
   "metadata": {},
   "outputs": [],
   "source": []
  },
  {
   "cell_type": "code",
   "execution_count": 11,
   "id": "1f12dc6f",
   "metadata": {},
   "outputs": [
    {
     "data": {
      "text/plain": [
       "('West Germany', '1/B', '7', '6', '0', '1', '13', '4', '+9', '12\\n')"
      ]
     },
     "execution_count": 11,
     "metadata": {},
     "output_type": "execute_result"
    }
   ],
   "source": [
    "team, group,total_game_played, win, draw, loss, points, total_goals_scored, total_goals_conceded, goal_diff"
   ]
  },
  {
   "cell_type": "markdown",
   "id": "8565de05",
   "metadata": {},
   "source": [
    "### Runner Up Team"
   ]
  },
  {
   "cell_type": "code",
   "execution_count": 12,
   "id": "012e8304",
   "metadata": {},
   "outputs": [],
   "source": [
    "runner_up_team = soup.find('tr', {'style':'background:silver'})"
   ]
  },
  {
   "cell_type": "code",
   "execution_count": 13,
   "id": "6e39cde9",
   "metadata": {},
   "outputs": [],
   "source": [
    "runner_up = runner_up_team.find('a', {'title':'Netherlands national football team'}).text"
   ]
  },
  {
   "cell_type": "code",
   "execution_count": 14,
   "id": "bce4ac81",
   "metadata": {},
   "outputs": [
    {
     "data": {
      "text/plain": [
       "'Netherlands'"
      ]
     },
     "execution_count": 14,
     "metadata": {},
     "output_type": "execute_result"
    }
   ],
   "source": [
    "runner_up"
   ]
  },
  {
   "cell_type": "markdown",
   "id": "4a24c4ff",
   "metadata": {},
   "source": [
    "### Awards"
   ]
  },
  {
   "cell_type": "code",
   "execution_count": 15,
   "id": "5a929fdb",
   "metadata": {},
   "outputs": [],
   "source": [
    "#golden_ball = soup.find('a', attrs= {'title': 'Lionel Messi'}).text\n",
    "golden_ball = np.nan\n",
    "#golden_boot = soup.find('a', attrs= {'title': 'Gerd Müller'}).text\n",
    "golden_boot = np.nan\n",
    "#golden_glove = soup.find('a', attrs= {'title': 'Manuel Neuer'}).text\n",
    "golden_glove = np.nan"
   ]
  },
  {
   "cell_type": "markdown",
   "id": "9c4c29d5",
   "metadata": {},
   "source": [
    "### Refree That Blew Final"
   ]
  },
  {
   "cell_type": "code",
   "execution_count": 16,
   "id": "64f13ca6",
   "metadata": {},
   "outputs": [],
   "source": [
    "#refree = soup.find('a', attrs= {'title': 'Jack Taylor'}).text\n",
    "refree = 'Jack Taylor'"
   ]
  },
  {
   "cell_type": "code",
   "execution_count": 17,
   "id": "784edff4",
   "metadata": {},
   "outputs": [
    {
     "data": {
      "text/plain": [
       "'Jack Taylor'"
      ]
     },
     "execution_count": 17,
     "metadata": {},
     "output_type": "execute_result"
    }
   ],
   "source": [
    "refree"
   ]
  },
  {
   "cell_type": "markdown",
   "id": "94388b87",
   "metadata": {},
   "source": [
    "### Year"
   ]
  },
  {
   "cell_type": "code",
   "execution_count": 18,
   "id": "4539f5fb",
   "metadata": {},
   "outputs": [],
   "source": [
    "year = soup.find('span', {'class':\"mw-page-title-main\"}).text"
   ]
  },
  {
   "cell_type": "code",
   "execution_count": 19,
   "id": "808b12e3",
   "metadata": {},
   "outputs": [
    {
     "data": {
      "text/plain": [
       "'1974'"
      ]
     },
     "execution_count": 19,
     "metadata": {},
     "output_type": "execute_result"
    }
   ],
   "source": [
    "year = year[:4]\n",
    "year"
   ]
  },
  {
   "cell_type": "markdown",
   "id": "cd07b96e",
   "metadata": {},
   "source": [
    "### Host Country"
   ]
  },
  {
   "cell_type": "code",
   "execution_count": 20,
   "id": "d4ea7762",
   "metadata": {},
   "outputs": [],
   "source": [
    "#soup.p.next_element"
   ]
  },
  {
   "cell_type": "code",
   "execution_count": 21,
   "id": "5d89247c",
   "metadata": {},
   "outputs": [],
   "source": [
    "#host = soup.find('a', {'title':\"Uruguay national football team\"}).text\n",
    "host = 'West Germany'"
   ]
  },
  {
   "cell_type": "code",
   "execution_count": 22,
   "id": "c126c2f2",
   "metadata": {},
   "outputs": [
    {
     "data": {
      "text/plain": [
       "'West Germany'"
      ]
     },
     "execution_count": 22,
     "metadata": {},
     "output_type": "execute_result"
    }
   ],
   "source": [
    "host"
   ]
  },
  {
   "cell_type": "markdown",
   "id": "965a0f2a",
   "metadata": {},
   "source": [
    "### Prize"
   ]
  },
  {
   "cell_type": "code",
   "execution_count": 23,
   "id": "4e8d37f0",
   "metadata": {},
   "outputs": [],
   "source": [
    "prize = np.nan"
   ]
  },
  {
   "cell_type": "code",
   "execution_count": null,
   "id": "7b1dfd7e",
   "metadata": {},
   "outputs": [],
   "source": []
  },
  {
   "cell_type": "code",
   "execution_count": 24,
   "id": "08be46b7",
   "metadata": {},
   "outputs": [],
   "source": [
    "winner = {'Team': team, 'G':group, 'Pld':total_game_played, 'W':win, 'D':draw, 'L':loss, 'Pts':points, \n",
    "            'GF':total_goals_scored, 'GA':total_goals_conceded, 'GD':goal_diff, 'Golden Ball': golden_ball, \n",
    "            'Golden Boot':golden_boot, 'Golden Glove':golden_glove, 'Prize': prize, 'Year': year, 'Refree':refree, 'Host': host, 'Runner_up':runner_up}"
   ]
  },
  {
   "cell_type": "code",
   "execution_count": null,
   "id": "5b8b8807",
   "metadata": {},
   "outputs": [],
   "source": []
  },
  {
   "cell_type": "code",
   "execution_count": 25,
   "id": "4d1eeb6d",
   "metadata": {},
   "outputs": [],
   "source": [
    "df_winner = pd.DataFrame(winner, index=[0])"
   ]
  },
  {
   "cell_type": "code",
   "execution_count": 26,
   "id": "2c05e901",
   "metadata": {},
   "outputs": [
    {
     "data": {
      "text/html": [
       "<div>\n",
       "<style scoped>\n",
       "    .dataframe tbody tr th:only-of-type {\n",
       "        vertical-align: middle;\n",
       "    }\n",
       "\n",
       "    .dataframe tbody tr th {\n",
       "        vertical-align: top;\n",
       "    }\n",
       "\n",
       "    .dataframe thead th {\n",
       "        text-align: right;\n",
       "    }\n",
       "</style>\n",
       "<table border=\"1\" class=\"dataframe\">\n",
       "  <thead>\n",
       "    <tr style=\"text-align: right;\">\n",
       "      <th></th>\n",
       "      <th>Team</th>\n",
       "      <th>G</th>\n",
       "      <th>Pld</th>\n",
       "      <th>W</th>\n",
       "      <th>D</th>\n",
       "      <th>L</th>\n",
       "      <th>Pts</th>\n",
       "      <th>GF</th>\n",
       "      <th>GA</th>\n",
       "      <th>GD</th>\n",
       "      <th>Golden Ball</th>\n",
       "      <th>Golden Boot</th>\n",
       "      <th>Golden Glove</th>\n",
       "      <th>Prize</th>\n",
       "      <th>Year</th>\n",
       "      <th>Refree</th>\n",
       "      <th>Host</th>\n",
       "      <th>Runner_up</th>\n",
       "    </tr>\n",
       "  </thead>\n",
       "  <tbody>\n",
       "    <tr>\n",
       "      <th>0</th>\n",
       "      <td>West Germany</td>\n",
       "      <td>1/B</td>\n",
       "      <td>7</td>\n",
       "      <td>6</td>\n",
       "      <td>0</td>\n",
       "      <td>1</td>\n",
       "      <td>13</td>\n",
       "      <td>4</td>\n",
       "      <td>+9</td>\n",
       "      <td>12\\n</td>\n",
       "      <td>NaN</td>\n",
       "      <td>NaN</td>\n",
       "      <td>NaN</td>\n",
       "      <td>NaN</td>\n",
       "      <td>1974</td>\n",
       "      <td>Jack Taylor</td>\n",
       "      <td>West Germany</td>\n",
       "      <td>Netherlands</td>\n",
       "    </tr>\n",
       "  </tbody>\n",
       "</table>\n",
       "</div>"
      ],
      "text/plain": [
       "           Team    G Pld  W  D  L Pts GF  GA    GD  Golden Ball  Golden Boot  \\\n",
       "0  West Germany  1/B   7  6  0  1  13  4  +9  12\\n          NaN          NaN   \n",
       "\n",
       "   Golden Glove  Prize  Year       Refree          Host    Runner_up  \n",
       "0           NaN    NaN  1974  Jack Taylor  West Germany  Netherlands  "
      ]
     },
     "execution_count": 26,
     "metadata": {},
     "output_type": "execute_result"
    }
   ],
   "source": [
    "df_winner"
   ]
  },
  {
   "cell_type": "markdown",
   "id": "d49df13c",
   "metadata": {},
   "source": [
    " "
   ]
  },
  {
   "cell_type": "code",
   "execution_count": null,
   "id": "46e06d2c",
   "metadata": {},
   "outputs": [],
   "source": []
  }
 ],
 "metadata": {
  "kernelspec": {
   "display_name": "Python 3 (ipykernel)",
   "language": "python",
   "name": "python3"
  },
  "language_info": {
   "codemirror_mode": {
    "name": "ipython",
    "version": 3
   },
   "file_extension": ".py",
   "mimetype": "text/x-python",
   "name": "python",
   "nbconvert_exporter": "python",
   "pygments_lexer": "ipython3",
   "version": "3.9.12"
  }
 },
 "nbformat": 4,
 "nbformat_minor": 5
}
