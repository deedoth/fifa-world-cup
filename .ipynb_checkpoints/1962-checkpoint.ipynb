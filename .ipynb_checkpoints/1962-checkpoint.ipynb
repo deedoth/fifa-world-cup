{
 "cells": [
  {
   "cell_type": "code",
   "execution_count": 1,
   "id": "a8583f7a",
   "metadata": {},
   "outputs": [],
   "source": [
    "import pandas as pd\n",
    "import numpy as np\n",
    "import seaborn as sb\n",
    "import matplotlib.pyplot as plt\n",
    "%matplotlib inline\n",
    "\n",
    "import requests"
   ]
  },
  {
   "cell_type": "code",
   "execution_count": 2,
   "id": "5e7f644f",
   "metadata": {},
   "outputs": [],
   "source": [
    "from bs4 import BeautifulSoup"
   ]
  },
  {
   "cell_type": "code",
   "execution_count": 3,
   "id": "6d32a28c",
   "metadata": {},
   "outputs": [],
   "source": [
    "year = ['1930', '1934', '1938','1950', '1954', '1958','1962','1966','1970','1974','1978','1982',\n",
    "        '1986','1990','1994','1998','2002','2006','2010','2014','2018']"
   ]
  },
  {
   "cell_type": "code",
   "execution_count": 4,
   "id": "7394e3da",
   "metadata": {},
   "outputs": [],
   "source": [
    "web = 'https://en.wikipedia.org/wiki/1962_FIFA_World_Cup'"
   ]
  },
  {
   "cell_type": "code",
   "execution_count": 5,
   "id": "1e3fb425",
   "metadata": {},
   "outputs": [],
   "source": [
    "response = requests.get(web)"
   ]
  },
  {
   "cell_type": "code",
   "execution_count": 6,
   "id": "3c629f34",
   "metadata": {},
   "outputs": [],
   "source": [
    "content = response.text"
   ]
  },
  {
   "cell_type": "code",
   "execution_count": 7,
   "id": "679b4a68",
   "metadata": {},
   "outputs": [],
   "source": [
    "soup = BeautifulSoup(content, 'lxml')"
   ]
  },
  {
   "cell_type": "code",
   "execution_count": 8,
   "id": "2ec054da",
   "metadata": {},
   "outputs": [],
   "source": [
    "table = soup.find('tr', {'style':'background:gold;'})"
   ]
  },
  {
   "cell_type": "code",
   "execution_count": 9,
   "id": "4c1ccfaf",
   "metadata": {},
   "outputs": [
    {
     "data": {
      "text/plain": [
       "<tr style=\"background:gold\">\n",
       "<td>1</td>\n",
       "<td style=\"text-align:left\"><span style=\"white-space:nowrap\"><span class=\"flagicon\"><img alt=\"\" class=\"thumbborder\" data-file-height=\"504\" data-file-width=\"720\" decoding=\"async\" height=\"15\" src=\"//upload.wikimedia.org/wikipedia/commons/thumb/9/92/Flag_of_Brazil_%281889%E2%80%931960%29.svg/22px-Flag_of_Brazil_%281889%E2%80%931960%29.svg.png\" srcset=\"//upload.wikimedia.org/wikipedia/commons/thumb/9/92/Flag_of_Brazil_%281889%E2%80%931960%29.svg/33px-Flag_of_Brazil_%281889%E2%80%931960%29.svg.png 1.5x, //upload.wikimedia.org/wikipedia/commons/thumb/9/92/Flag_of_Brazil_%281889%E2%80%931960%29.svg/43px-Flag_of_Brazil_%281889%E2%80%931960%29.svg.png 2x\" width=\"22\"/> </span><a href=\"/wiki/Brazil_national_football_team\" title=\"Brazil national football team\">Brazil</a></span></td>\n",
       "<td><a href=\"#Group_4\">4</a></td>\n",
       "<td>6</td>\n",
       "<td>5</td>\n",
       "<td>1</td>\n",
       "<td>0</td>\n",
       "<td>16</td>\n",
       "<td>4</td>\n",
       "<td>+12</td>\n",
       "<td>11\n",
       "</td></tr>"
      ]
     },
     "execution_count": 9,
     "metadata": {},
     "output_type": "execute_result"
    }
   ],
   "source": [
    "table"
   ]
  },
  {
   "cell_type": "code",
   "execution_count": 10,
   "id": "53f20598",
   "metadata": {},
   "outputs": [],
   "source": [
    "sn = table.find('td')\n",
    "team_ = sn.find_next_sibling('td')\n",
    "team = team_.text\n",
    "team = team[1:]\n",
    "group_ = team_.find_next_sibling('td')\n",
    "group = group_.text\n",
    "total_game_played_ = group_.find_next_sibling('td')\n",
    "total_game_played = total_game_played_.text\n",
    "win_ = total_game_played_.find_next_sibling('td')\n",
    "win = win_.text\n",
    "draw_ = win_.find_next_sibling('td')\n",
    "draw = draw_.text\n",
    "loss_ = draw_.find_next_sibling('td')\n",
    "loss = loss_.text\n",
    "points_ = loss_.find_next_sibling('td')\n",
    "points = points_.text\n",
    "total_goals_scored_ = points_.find_next_sibling('td')\n",
    "total_goals_scored = total_goals_scored_.text\n",
    "total_goals_conceded_ = total_goals_scored_.find_next_sibling('td')\n",
    "total_goals_conceded = total_goals_conceded_.text\n",
    "goal_diff_ = total_goals_conceded_.find_next_sibling('td')\n",
    "goal_diff = goal_diff_.text"
   ]
  },
  {
   "cell_type": "code",
   "execution_count": null,
   "id": "ed70d191",
   "metadata": {},
   "outputs": [],
   "source": []
  },
  {
   "cell_type": "code",
   "execution_count": 11,
   "id": "1f12dc6f",
   "metadata": {},
   "outputs": [
    {
     "data": {
      "text/plain": [
       "('Brazil', '4', '6', '5', '1', '0', '16', '4', '+12', '11\\n')"
      ]
     },
     "execution_count": 11,
     "metadata": {},
     "output_type": "execute_result"
    }
   ],
   "source": [
    "team, group,total_game_played, win, draw, loss, points, total_goals_scored, total_goals_conceded, goal_diff"
   ]
  },
  {
   "cell_type": "markdown",
   "id": "8565de05",
   "metadata": {},
   "source": [
    "### Runner Up Team"
   ]
  },
  {
   "cell_type": "code",
   "execution_count": 12,
   "id": "012e8304",
   "metadata": {},
   "outputs": [],
   "source": [
    "runner_up_team = soup.find('tr', {'style':'background:silver;'})"
   ]
  },
  {
   "cell_type": "code",
   "execution_count": 14,
   "id": "6e39cde9",
   "metadata": {},
   "outputs": [],
   "source": [
    "runner_up = runner_up_team.find('a', {'title':'Sweden national football team'}).text"
   ]
  },
  {
   "cell_type": "code",
   "execution_count": 15,
   "id": "bce4ac81",
   "metadata": {},
   "outputs": [
    {
     "data": {
      "text/plain": [
       "'Sweden'"
      ]
     },
     "execution_count": 15,
     "metadata": {},
     "output_type": "execute_result"
    }
   ],
   "source": [
    "runner_up"
   ]
  },
  {
   "cell_type": "markdown",
   "id": "4a24c4ff",
   "metadata": {},
   "source": [
    "### Awards"
   ]
  },
  {
   "cell_type": "code",
   "execution_count": null,
   "id": "5a929fdb",
   "metadata": {},
   "outputs": [],
   "source": [
    "#golden_ball = soup.find('a', attrs= {'title': 'Lionel Messi'}).text\n",
    "#golden_ball = soup.find('a', attrs= {'title': 'Lionel Messi'}).text\n",
    "#golden_boot = soup.find('a', attrs= {'title': 'James Rodríguez'}).text\n",
    "#golden_glove = soup.find('a', attrs= {'title': 'Manuel Neuer'}).text"
   ]
  },
  {
   "cell_type": "markdown",
   "id": "9c4c29d5",
   "metadata": {},
   "source": [
    "### Refree That Blew Final"
   ]
  },
  {
   "cell_type": "code",
   "execution_count": 16,
   "id": "64f13ca6",
   "metadata": {},
   "outputs": [],
   "source": [
    "refree = soup.find('a', attrs= {'title': 'Maurice Guigue'}).text\n",
    "#refree = 'William Ling'"
   ]
  },
  {
   "cell_type": "code",
   "execution_count": 17,
   "id": "784edff4",
   "metadata": {},
   "outputs": [
    {
     "data": {
      "text/plain": [
       "'Maurice Guigue'"
      ]
     },
     "execution_count": 17,
     "metadata": {},
     "output_type": "execute_result"
    }
   ],
   "source": [
    "refree"
   ]
  },
  {
   "cell_type": "markdown",
   "id": "94388b87",
   "metadata": {},
   "source": [
    "### Year"
   ]
  },
  {
   "cell_type": "code",
   "execution_count": 18,
   "id": "4539f5fb",
   "metadata": {},
   "outputs": [],
   "source": [
    "year = soup.find('span', {'class':\"mw-page-title-main\"}).text"
   ]
  },
  {
   "cell_type": "code",
   "execution_count": 19,
   "id": "808b12e3",
   "metadata": {},
   "outputs": [
    {
     "data": {
      "text/plain": [
       "'1958'"
      ]
     },
     "execution_count": 19,
     "metadata": {},
     "output_type": "execute_result"
    }
   ],
   "source": [
    "year = year[:4]\n",
    "year"
   ]
  },
  {
   "cell_type": "markdown",
   "id": "cd07b96e",
   "metadata": {},
   "source": [
    "### Host Country"
   ]
  },
  {
   "cell_type": "code",
   "execution_count": null,
   "id": "d4ea7762",
   "metadata": {},
   "outputs": [],
   "source": [
    "#soup.p.next_element"
   ]
  },
  {
   "cell_type": "code",
   "execution_count": null,
   "id": "5d89247c",
   "metadata": {},
   "outputs": [],
   "source": [
    "#host = soup.find('a', {'title':\"Uruguay national football team\"}).text\n",
    "host = 'Sweden'"
   ]
  },
  {
   "cell_type": "code",
   "execution_count": null,
   "id": "c126c2f2",
   "metadata": {},
   "outputs": [],
   "source": [
    "host"
   ]
  },
  {
   "cell_type": "markdown",
   "id": "965a0f2a",
   "metadata": {},
   "source": [
    "### Prize"
   ]
  },
  {
   "cell_type": "code",
   "execution_count": null,
   "id": "4e8d37f0",
   "metadata": {},
   "outputs": [],
   "source": [
    "prize = np.nan"
   ]
  },
  {
   "cell_type": "code",
   "execution_count": null,
   "id": "7b1dfd7e",
   "metadata": {},
   "outputs": [],
   "source": []
  },
  {
   "cell_type": "code",
   "execution_count": null,
   "id": "08be46b7",
   "metadata": {},
   "outputs": [],
   "source": [
    "winner = {'Team': team, 'G':group, 'Pld':total_game_played, 'W':win, 'D':draw, 'L':loss, 'Pts':points, \n",
    "            'GF':total_goals_scored, 'GA':total_goals_conceded, 'GD':goal_diff, 'Golden Ball': np.nan, \n",
    "            'Golden Boot':np.nan, 'Golden Glove':np.nan, 'Prize': prize, 'Year': year, 'Refree':refree, 'Host': host, 'Runner_up':runner_up}"
   ]
  },
  {
   "cell_type": "code",
   "execution_count": null,
   "id": "5b8b8807",
   "metadata": {},
   "outputs": [],
   "source": []
  },
  {
   "cell_type": "code",
   "execution_count": null,
   "id": "4d1eeb6d",
   "metadata": {},
   "outputs": [],
   "source": [
    "df_winner = pd.DataFrame(winner, index=[0])"
   ]
  },
  {
   "cell_type": "code",
   "execution_count": null,
   "id": "2c05e901",
   "metadata": {},
   "outputs": [],
   "source": [
    "df_winner"
   ]
  },
  {
   "cell_type": "code",
   "execution_count": null,
   "id": "166048b5",
   "metadata": {},
   "outputs": [],
   "source": []
  },
  {
   "cell_type": "code",
   "execution_count": null,
   "id": "46e06d2c",
   "metadata": {},
   "outputs": [],
   "source": []
  }
 ],
 "metadata": {
  "kernelspec": {
   "display_name": "Python 3 (ipykernel)",
   "language": "python",
   "name": "python3"
  },
  "language_info": {
   "codemirror_mode": {
    "name": "ipython",
    "version": 3
   },
   "file_extension": ".py",
   "mimetype": "text/x-python",
   "name": "python",
   "nbconvert_exporter": "python",
   "pygments_lexer": "ipython3",
   "version": "3.9.12"
  }
 },
 "nbformat": 4,
 "nbformat_minor": 5
}
