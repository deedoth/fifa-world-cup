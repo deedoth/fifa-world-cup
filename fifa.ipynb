{
 "cells": [
  {
   "cell_type": "markdown",
   "id": "3d64a7f8",
   "metadata": {},
   "source": [
    "## ID: 16010363ff01f000"
   ]
  },
  {
   "cell_type": "markdown",
   "id": "c06e9f9a",
   "metadata": {},
   "source": [
    "# Objectives\n",
    "- 1. Country with highest world cup title\n",
    "- 2. Player with Highest Golden Boot Award\n",
    "- 3. Player with Highest Golden Ball Award\n",
    "- 4. Highest Refree that blew in final\n",
    "- 5. Country with highest appearance in Final but didn't get the cup"
   ]
  },
  {
   "cell_type": "markdown",
   "id": "2ba4e482",
   "metadata": {},
   "source": [
    "## Data Source\n",
    "All the datas were scraped by **Damilare Ayoola** from wikipedia.org"
   ]
  },
  {
   "cell_type": "code",
   "execution_count": 1,
   "id": "50004371",
   "metadata": {},
   "outputs": [],
   "source": [
    "import pandas as pd\n",
    "import numpy as np\n",
    "import seaborn as sb\n",
    "import matplotlib.pyplot as plt\n",
    "%matplotlib inline\n",
    "import os\n",
    "import glob"
   ]
  },
  {
   "cell_type": "code",
   "execution_count": 2,
   "id": "abae95dc",
   "metadata": {},
   "outputs": [],
   "source": [
    "#loading and merging all the datasets\n",
    "folder_name = 'data'\n",
    "files = glob.glob(os.path.join(folder_name, \"*.csv\"))\n",
    "df = pd.concat((pd.read_csv(f, low_memory=False) for f in files), ignore_index = True)"
   ]
  },
  {
   "cell_type": "code",
   "execution_count": 3,
   "id": "662fbe33",
   "metadata": {},
   "outputs": [
    {
     "data": {
      "text/html": [
       "<div>\n",
       "<style scoped>\n",
       "    .dataframe tbody tr th:only-of-type {\n",
       "        vertical-align: middle;\n",
       "    }\n",
       "\n",
       "    .dataframe tbody tr th {\n",
       "        vertical-align: top;\n",
       "    }\n",
       "\n",
       "    .dataframe thead th {\n",
       "        text-align: right;\n",
       "    }\n",
       "</style>\n",
       "<table border=\"1\" class=\"dataframe\">\n",
       "  <thead>\n",
       "    <tr style=\"text-align: right;\">\n",
       "      <th></th>\n",
       "      <th>Team</th>\n",
       "      <th>G</th>\n",
       "      <th>Pld</th>\n",
       "      <th>W</th>\n",
       "      <th>D</th>\n",
       "      <th>L</th>\n",
       "      <th>Pts</th>\n",
       "      <th>GF</th>\n",
       "      <th>GA</th>\n",
       "      <th>GD</th>\n",
       "      <th>Golden Ball</th>\n",
       "      <th>Golden Boot</th>\n",
       "      <th>Golden Glove</th>\n",
       "      <th>Prize</th>\n",
       "      <th>Year</th>\n",
       "      <th>Refree</th>\n",
       "      <th>Host</th>\n",
       "      <th>Runner_up</th>\n",
       "      <th>Attendance</th>\n",
       "    </tr>\n",
       "  </thead>\n",
       "  <tbody>\n",
       "    <tr>\n",
       "      <th>0</th>\n",
       "      <td>Uruguay</td>\n",
       "      <td>3</td>\n",
       "      <td>4.0</td>\n",
       "      <td>4.0</td>\n",
       "      <td>0.0</td>\n",
       "      <td>0.0</td>\n",
       "      <td>15.0</td>\n",
       "      <td>3.0</td>\n",
       "      <td>12.0</td>\n",
       "      <td>8.0</td>\n",
       "      <td>NaN</td>\n",
       "      <td>NaN</td>\n",
       "      <td>NaN</td>\n",
       "      <td>NaN</td>\n",
       "      <td>1930</td>\n",
       "      <td>John Langenus</td>\n",
       "      <td>Uruguay</td>\n",
       "      <td>Argentina</td>\n",
       "      <td>68346</td>\n",
       "    </tr>\n",
       "    <tr>\n",
       "      <th>1</th>\n",
       "      <td>Italy</td>\n",
       "      <td>NaN</td>\n",
       "      <td>5.0</td>\n",
       "      <td>4.0</td>\n",
       "      <td>1.0</td>\n",
       "      <td>0.0</td>\n",
       "      <td>12.0</td>\n",
       "      <td>3.0</td>\n",
       "      <td>9.0</td>\n",
       "      <td>9.0</td>\n",
       "      <td>NaN</td>\n",
       "      <td>NaN</td>\n",
       "      <td>NaN</td>\n",
       "      <td>NaN</td>\n",
       "      <td>1934</td>\n",
       "      <td>Ivan Eklind</td>\n",
       "      <td>Italy</td>\n",
       "      <td>Czechoslovakia</td>\n",
       "      <td>55000</td>\n",
       "    </tr>\n",
       "    <tr>\n",
       "      <th>2</th>\n",
       "      <td>Italy</td>\n",
       "      <td>NaN</td>\n",
       "      <td>4.0</td>\n",
       "      <td>4.0</td>\n",
       "      <td>0.0</td>\n",
       "      <td>0.0</td>\n",
       "      <td>11.0</td>\n",
       "      <td>5.0</td>\n",
       "      <td>6.0</td>\n",
       "      <td>8.0</td>\n",
       "      <td>NaN</td>\n",
       "      <td>NaN</td>\n",
       "      <td>NaN</td>\n",
       "      <td>35000000.0</td>\n",
       "      <td>1938</td>\n",
       "      <td>Georges Capdeville</td>\n",
       "      <td>France</td>\n",
       "      <td>Hungary</td>\n",
       "      <td>45000</td>\n",
       "    </tr>\n",
       "    <tr>\n",
       "      <th>3</th>\n",
       "      <td>Uruguay</td>\n",
       "      <td>4</td>\n",
       "      <td>4.0</td>\n",
       "      <td>3.0</td>\n",
       "      <td>1.0</td>\n",
       "      <td>0.0</td>\n",
       "      <td>15.0</td>\n",
       "      <td>5.0</td>\n",
       "      <td>10.0</td>\n",
       "      <td>7.0</td>\n",
       "      <td>NaN</td>\n",
       "      <td>NaN</td>\n",
       "      <td>NaN</td>\n",
       "      <td>NaN</td>\n",
       "      <td>1950</td>\n",
       "      <td>George Reader</td>\n",
       "      <td>Brazil</td>\n",
       "      <td>Brazil</td>\n",
       "      <td>173850</td>\n",
       "    </tr>\n",
       "    <tr>\n",
       "      <th>4</th>\n",
       "      <td>West Germany</td>\n",
       "      <td>2</td>\n",
       "      <td>6.0</td>\n",
       "      <td>5.0</td>\n",
       "      <td>0.0</td>\n",
       "      <td>1.0</td>\n",
       "      <td>25.0</td>\n",
       "      <td>14.0</td>\n",
       "      <td>11.0</td>\n",
       "      <td>10.0</td>\n",
       "      <td>NaN</td>\n",
       "      <td>NaN</td>\n",
       "      <td>NaN</td>\n",
       "      <td>NaN</td>\n",
       "      <td>1954</td>\n",
       "      <td>William Ling</td>\n",
       "      <td>Switzerland</td>\n",
       "      <td>Hungary</td>\n",
       "      <td>62500</td>\n",
       "    </tr>\n",
       "  </tbody>\n",
       "</table>\n",
       "</div>"
      ],
      "text/plain": [
       "           Team    G  Pld    W    D    L   Pts    GF    GA    GD Golden Ball  \\\n",
       "0       Uruguay    3  4.0  4.0  0.0  0.0  15.0   3.0  12.0   8.0         NaN   \n",
       "1         Italy  NaN  5.0  4.0  1.0  0.0  12.0   3.0   9.0   9.0         NaN   \n",
       "2         Italy  NaN  4.0  4.0  0.0  0.0  11.0   5.0   6.0   8.0         NaN   \n",
       "3       Uruguay    4  4.0  3.0  1.0  0.0  15.0   5.0  10.0   7.0         NaN   \n",
       "4  West Germany    2  6.0  5.0  0.0  1.0  25.0  14.0  11.0  10.0         NaN   \n",
       "\n",
       "  Golden Boot Golden Glove       Prize  Year              Refree         Host  \\\n",
       "0         NaN          NaN         NaN  1930       John Langenus      Uruguay   \n",
       "1         NaN          NaN         NaN  1934         Ivan Eklind        Italy   \n",
       "2         NaN          NaN  35000000.0  1938  Georges Capdeville       France   \n",
       "3         NaN          NaN         NaN  1950       George Reader       Brazil   \n",
       "4         NaN          NaN         NaN  1954        William Ling  Switzerland   \n",
       "\n",
       "        Runner_up  Attendance  \n",
       "0       Argentina       68346  \n",
       "1  Czechoslovakia       55000  \n",
       "2         Hungary       45000  \n",
       "3          Brazil      173850  \n",
       "4         Hungary       62500  "
      ]
     },
     "execution_count": 3,
     "metadata": {},
     "output_type": "execute_result"
    }
   ],
   "source": [
    "df.head()"
   ]
  },
  {
   "cell_type": "code",
   "execution_count": 4,
   "id": "8959ab84",
   "metadata": {},
   "outputs": [
    {
     "name": "stdout",
     "output_type": "stream",
     "text": [
      "<class 'pandas.core.frame.DataFrame'>\n",
      "RangeIndex: 22 entries, 0 to 21\n",
      "Data columns (total 19 columns):\n",
      " #   Column        Non-Null Count  Dtype  \n",
      "---  ------        --------------  -----  \n",
      " 0   Team          22 non-null     object \n",
      " 1   G             19 non-null     object \n",
      " 2   Pld           20 non-null     float64\n",
      " 3   W             20 non-null     float64\n",
      " 4   D             20 non-null     float64\n",
      " 5   L             20 non-null     float64\n",
      " 6   Pts           20 non-null     float64\n",
      " 7   GF            20 non-null     float64\n",
      " 8   GA            20 non-null     float64\n",
      " 9   GD            20 non-null     float64\n",
      " 10  Golden Ball   10 non-null     object \n",
      " 11  Golden Boot   12 non-null     object \n",
      " 12  Golden Glove  8 non-null      object \n",
      " 13  Prize         3 non-null      float64\n",
      " 14  Year          22 non-null     int64  \n",
      " 15  Refree        22 non-null     object \n",
      " 16  Host          22 non-null     object \n",
      " 17  Runner_up     22 non-null     object \n",
      " 18  Attendance    22 non-null     int64  \n",
      "dtypes: float64(9), int64(2), object(8)\n",
      "memory usage: 3.4+ KB\n"
     ]
    }
   ],
   "source": [
    "df.info()"
   ]
  },
  {
   "cell_type": "markdown",
   "id": "a37767a6",
   "metadata": {},
   "source": [
    "**Drop variables that have no impact to our analysis**"
   ]
  },
  {
   "cell_type": "code",
   "execution_count": 5,
   "id": "5f2dc461",
   "metadata": {},
   "outputs": [],
   "source": [
    "variables = ['Team', 'Golden Ball', 'Golden Boot', 'Golden Glove', 'Year', 'Refree', 'Host', 'Runner_up', 'Attendance']\n",
    "for i in df.columns:\n",
    "    if i in variables:\n",
    "        pass\n",
    "    else:\n",
    "        df.drop(i, axis=1, inplace = True)\n",
    "        "
   ]
  },
  {
   "cell_type": "code",
   "execution_count": 6,
   "id": "2430e957",
   "metadata": {
    "scrolled": true
   },
   "outputs": [
    {
     "data": {
      "text/html": [
       "<div>\n",
       "<style scoped>\n",
       "    .dataframe tbody tr th:only-of-type {\n",
       "        vertical-align: middle;\n",
       "    }\n",
       "\n",
       "    .dataframe tbody tr th {\n",
       "        vertical-align: top;\n",
       "    }\n",
       "\n",
       "    .dataframe thead th {\n",
       "        text-align: right;\n",
       "    }\n",
       "</style>\n",
       "<table border=\"1\" class=\"dataframe\">\n",
       "  <thead>\n",
       "    <tr style=\"text-align: right;\">\n",
       "      <th></th>\n",
       "      <th>Team</th>\n",
       "      <th>Golden Ball</th>\n",
       "      <th>Golden Boot</th>\n",
       "      <th>Golden Glove</th>\n",
       "      <th>Year</th>\n",
       "      <th>Refree</th>\n",
       "      <th>Host</th>\n",
       "      <th>Runner_up</th>\n",
       "      <th>Attendance</th>\n",
       "    </tr>\n",
       "  </thead>\n",
       "  <tbody>\n",
       "    <tr>\n",
       "      <th>0</th>\n",
       "      <td>Uruguay</td>\n",
       "      <td>NaN</td>\n",
       "      <td>NaN</td>\n",
       "      <td>NaN</td>\n",
       "      <td>1930</td>\n",
       "      <td>John Langenus</td>\n",
       "      <td>Uruguay</td>\n",
       "      <td>Argentina</td>\n",
       "      <td>68346</td>\n",
       "    </tr>\n",
       "    <tr>\n",
       "      <th>1</th>\n",
       "      <td>Italy</td>\n",
       "      <td>NaN</td>\n",
       "      <td>NaN</td>\n",
       "      <td>NaN</td>\n",
       "      <td>1934</td>\n",
       "      <td>Ivan Eklind</td>\n",
       "      <td>Italy</td>\n",
       "      <td>Czechoslovakia</td>\n",
       "      <td>55000</td>\n",
       "    </tr>\n",
       "    <tr>\n",
       "      <th>2</th>\n",
       "      <td>Italy</td>\n",
       "      <td>NaN</td>\n",
       "      <td>NaN</td>\n",
       "      <td>NaN</td>\n",
       "      <td>1938</td>\n",
       "      <td>Georges Capdeville</td>\n",
       "      <td>France</td>\n",
       "      <td>Hungary</td>\n",
       "      <td>45000</td>\n",
       "    </tr>\n",
       "    <tr>\n",
       "      <th>3</th>\n",
       "      <td>Uruguay</td>\n",
       "      <td>NaN</td>\n",
       "      <td>NaN</td>\n",
       "      <td>NaN</td>\n",
       "      <td>1950</td>\n",
       "      <td>George Reader</td>\n",
       "      <td>Brazil</td>\n",
       "      <td>Brazil</td>\n",
       "      <td>173850</td>\n",
       "    </tr>\n",
       "    <tr>\n",
       "      <th>4</th>\n",
       "      <td>West Germany</td>\n",
       "      <td>NaN</td>\n",
       "      <td>NaN</td>\n",
       "      <td>NaN</td>\n",
       "      <td>1954</td>\n",
       "      <td>William Ling</td>\n",
       "      <td>Switzerland</td>\n",
       "      <td>Hungary</td>\n",
       "      <td>62500</td>\n",
       "    </tr>\n",
       "  </tbody>\n",
       "</table>\n",
       "</div>"
      ],
      "text/plain": [
       "           Team Golden Ball Golden Boot Golden Glove  Year  \\\n",
       "0       Uruguay         NaN         NaN          NaN  1930   \n",
       "1         Italy         NaN         NaN          NaN  1934   \n",
       "2         Italy         NaN         NaN          NaN  1938   \n",
       "3       Uruguay         NaN         NaN          NaN  1950   \n",
       "4  West Germany         NaN         NaN          NaN  1954   \n",
       "\n",
       "               Refree         Host       Runner_up  Attendance  \n",
       "0       John Langenus      Uruguay       Argentina       68346  \n",
       "1         Ivan Eklind        Italy  Czechoslovakia       55000  \n",
       "2  Georges Capdeville       France         Hungary       45000  \n",
       "3       George Reader       Brazil          Brazil      173850  \n",
       "4        William Ling  Switzerland         Hungary       62500  "
      ]
     },
     "execution_count": 6,
     "metadata": {},
     "output_type": "execute_result"
    }
   ],
   "source": [
    "df.head()"
   ]
  },
  {
   "cell_type": "code",
   "execution_count": 7,
   "id": "467848d3",
   "metadata": {},
   "outputs": [],
   "source": [
    "#rename the columns name for simplisity and consistency\n",
    "df = df.rename(columns={'Golden Ball':'Golden_Ball', 'Golden Boot':'Golden_Boot', 'Golden Glove':'Golden_Glove', \n",
    "                        'Runner_up':'Runner_Up', 'Team':'Winner'})"
   ]
  },
  {
   "cell_type": "code",
   "execution_count": 8,
   "id": "4a6bb76e",
   "metadata": {},
   "outputs": [
    {
     "name": "stdout",
     "output_type": "stream",
     "text": [
      "<class 'pandas.core.frame.DataFrame'>\n",
      "RangeIndex: 22 entries, 0 to 21\n",
      "Data columns (total 9 columns):\n",
      " #   Column        Non-Null Count  Dtype \n",
      "---  ------        --------------  ----- \n",
      " 0   Winner        22 non-null     object\n",
      " 1   Golden_Ball   10 non-null     object\n",
      " 2   Golden_Boot   12 non-null     object\n",
      " 3   Golden_Glove  8 non-null      object\n",
      " 4   Year          22 non-null     int64 \n",
      " 5   Refree        22 non-null     object\n",
      " 6   Host          22 non-null     object\n",
      " 7   Runner_Up     22 non-null     object\n",
      " 8   Attendance    22 non-null     int64 \n",
      "dtypes: int64(2), object(7)\n",
      "memory usage: 1.7+ KB\n"
     ]
    }
   ],
   "source": [
    "df.info()"
   ]
  },
  {
   "cell_type": "code",
   "execution_count": 9,
   "id": "a8ccb03b",
   "metadata": {},
   "outputs": [
    {
     "data": {
      "text/plain": [
       "0"
      ]
     },
     "execution_count": 9,
     "metadata": {},
     "output_type": "execute_result"
    }
   ],
   "source": [
    "df.duplicated().sum()"
   ]
  },
  {
   "cell_type": "code",
   "execution_count": 10,
   "id": "7e6a3c93",
   "metadata": {},
   "outputs": [
    {
     "data": {
      "text/plain": [
       "Winner           0\n",
       "Golden_Ball     12\n",
       "Golden_Boot     10\n",
       "Golden_Glove    14\n",
       "Year             0\n",
       "Refree           0\n",
       "Host             0\n",
       "Runner_Up        0\n",
       "Attendance       0\n",
       "dtype: int64"
      ]
     },
     "execution_count": 10,
     "metadata": {},
     "output_type": "execute_result"
    }
   ],
   "source": [
    "df.isnull().sum()"
   ]
  },
  {
   "cell_type": "markdown",
   "id": "0e390026",
   "metadata": {},
   "source": [
    "There are missing values in the award because the award wasn't present in the early years of World Cup \n",
    "<br>**Replace the null with no_award**"
   ]
  },
  {
   "cell_type": "code",
   "execution_count": 11,
   "id": "5c490256",
   "metadata": {},
   "outputs": [],
   "source": [
    "df.fillna('no_award', inplace=True)"
   ]
  },
  {
   "cell_type": "code",
   "execution_count": 12,
   "id": "5ef273c7",
   "metadata": {},
   "outputs": [
    {
     "data": {
      "text/plain": [
       "Winner          0\n",
       "Golden_Ball     0\n",
       "Golden_Boot     0\n",
       "Golden_Glove    0\n",
       "Year            0\n",
       "Refree          0\n",
       "Host            0\n",
       "Runner_Up       0\n",
       "Attendance      0\n",
       "dtype: int64"
      ]
     },
     "execution_count": 12,
     "metadata": {},
     "output_type": "execute_result"
    }
   ],
   "source": [
    "df.isnull().sum()"
   ]
  },
  {
   "cell_type": "markdown",
   "id": "109b66df",
   "metadata": {},
   "source": [
    "### 1. Country with highest world cup title"
   ]
  },
  {
   "cell_type": "code",
   "execution_count": 13,
   "id": "7818beca",
   "metadata": {},
   "outputs": [
    {
     "data": {
      "text/plain": [
       "array(['Uruguay', 'Italy', 'West Germany', 'Brazil', 'England',\n",
       "       'Argentina', 'France', 'Spain', 'Germany'], dtype=object)"
      ]
     },
     "execution_count": 13,
     "metadata": {},
     "output_type": "execute_result"
    }
   ],
   "source": [
    "#check the unique countries that have collected the world cup title\n",
    "df.Winner.unique()"
   ]
  },
  {
   "cell_type": "markdown",
   "id": "9ae7c209",
   "metadata": {},
   "source": [
    "**`Germany` and `West Germany` are thesame country**\n",
    "<br>**Rename `West Germany` to `Germany`**"
   ]
  },
  {
   "cell_type": "code",
   "execution_count": 14,
   "id": "2ab2cd5a",
   "metadata": {},
   "outputs": [],
   "source": [
    "#df[df['Winner'] == 'West Germany'] = 'Germany'\n",
    "df.Winner = df.Winner.replace({'West Germany': 'Germany'})"
   ]
  },
  {
   "cell_type": "code",
   "execution_count": 15,
   "id": "719fa08b",
   "metadata": {},
   "outputs": [
    {
     "data": {
      "text/plain": [
       "array(['Uruguay', 'Italy', 'Germany', 'Brazil', 'England', 'Argentina',\n",
       "       'France', 'Spain'], dtype=object)"
      ]
     },
     "execution_count": 15,
     "metadata": {},
     "output_type": "execute_result"
    }
   ],
   "source": [
    "#Check if it's been renamed\n",
    "df.Winner.unique()"
   ]
  },
  {
   "cell_type": "markdown",
   "id": "5d60c3ca",
   "metadata": {},
   "source": [
    "`West Germany` has been renamed to `Germany`"
   ]
  },
  {
   "cell_type": "code",
   "execution_count": 16,
   "id": "26e763e9",
   "metadata": {},
   "outputs": [
    {
     "data": {
      "text/plain": [
       "array(['Argentina', 'Czechoslovakia', 'Hungary', 'Brazil', 'Sweden',\n",
       "       'West Germany', 'Italy', 'Netherlands', 'Germany', 'France',\n",
       "       'Croatia'], dtype=object)"
      ]
     },
     "execution_count": 16,
     "metadata": {},
     "output_type": "execute_result"
    }
   ],
   "source": [
    "#check the unique countries for runner up as well if we have thesame isuse of Germany and West Germany\n",
    "df.Runner_Up.unique()"
   ]
  },
  {
   "cell_type": "markdown",
   "id": "81687582",
   "metadata": {},
   "source": [
    "**We have same issue of `Germany` and `West Germany`**\n",
    "<br>**Rename it "
   ]
  },
  {
   "cell_type": "code",
   "execution_count": 17,
   "id": "e0074653",
   "metadata": {},
   "outputs": [],
   "source": [
    "#df[df['Runner_Up'] == 'West Germany'] = 'Germany'\n",
    "df.Runner_Up = df.Runner_Up.replace({'West Germany': 'Germany'})"
   ]
  },
  {
   "cell_type": "code",
   "execution_count": 18,
   "id": "ae5416b5",
   "metadata": {},
   "outputs": [
    {
     "data": {
      "text/plain": [
       "array(['Argentina', 'Czechoslovakia', 'Hungary', 'Brazil', 'Sweden',\n",
       "       'Germany', 'Italy', 'Netherlands', 'France', 'Croatia'],\n",
       "      dtype=object)"
      ]
     },
     "execution_count": 18,
     "metadata": {},
     "output_type": "execute_result"
    }
   ],
   "source": [
    "df.Runner_Up.unique()"
   ]
  },
  {
   "cell_type": "markdown",
   "id": "d9964d5b",
   "metadata": {},
   "source": [
    "#### The Country with Highest World Cup Title"
   ]
  },
  {
   "cell_type": "code",
   "execution_count": 19,
   "id": "d855da32",
   "metadata": {},
   "outputs": [
    {
     "data": {
      "text/plain": [
       "Brazil       5\n",
       "Italy        4\n",
       "Germany      4\n",
       "Argentina    3\n",
       "Uruguay      2\n",
       "France       2\n",
       "England      1\n",
       "Spain        1\n",
       "Name: Winner, dtype: int64"
      ]
     },
     "execution_count": 19,
     "metadata": {},
     "output_type": "execute_result"
    }
   ],
   "source": [
    "df.Winner.value_counts()"
   ]
  },
  {
   "cell_type": "code",
   "execution_count": 20,
   "id": "39b4e027",
   "metadata": {},
   "outputs": [
    {
     "data": {
      "text/plain": [
       "Text(0, 0.5, 'Numbers')"
      ]
     },
     "execution_count": 20,
     "metadata": {},
     "output_type": "execute_result"
    },
    {
     "data": {
      "image/png": "[encoded data removed]",
      "text/plain": [
       "<Figure size 432x288 with 1 Axes>"
      ]
     },
     "metadata": {
      "needs_background": "light"
     },
     "output_type": "display_data"
    }
   ],
   "source": [
    "base_color = sb.color_palette()[0]\n",
    "winning_order = df.Winner.value_counts().index\n",
    "sb.countplot(data=df, x = 'Winner', color=base_color, order=winning_order)\n",
    "plt.xticks(rotation=90);\n",
    "plt.title(\"Country with Highest World Cup\");\n",
    "plt.xlabel('Countries')\n",
    "plt.ylabel('Numbers')"
   ]
  },
  {
   "cell_type": "markdown",
   "id": "8f74cb0d",
   "metadata": {},
   "source": [
    "#### Brazil Has The Highest World Cup Title."
   ]
  },
  {
   "cell_type": "code",
   "execution_count": 21,
   "id": "2c8a742d",
   "metadata": {},
   "outputs": [
    {
     "data": {
      "text/plain": [
       "Year  Winner \n",
       "1930  Uruguay    1\n",
       "1934  Italy      1\n",
       "2018  France     1\n",
       "2014  Germany    1\n",
       "2010  Spain      1\n",
       "2006  Italy      1\n",
       "2002  Brazil     1\n",
       "1998  France     1\n",
       "1994  Brazil     1\n",
       "1990  Germany    1\n",
       "Name: Winner, dtype: int64"
      ]
     },
     "execution_count": 21,
     "metadata": {},
     "output_type": "execute_result"
    }
   ],
   "source": [
    "df.groupby(['Year', 'Winner'])['Winner'].count().sort_values(ascending=False).head(10)"
   ]
  },
  {
   "cell_type": "markdown",
   "id": "574b21fe",
   "metadata": {},
   "source": [
    "### 2. Player with Highest Golden Boot Award"
   ]
  },
  {
   "cell_type": "code",
   "execution_count": 22,
   "id": "9e672c66",
   "metadata": {},
   "outputs": [
    {
     "data": {
      "text/plain": [
       "no_award               10\n",
       "Gerd Müller             1\n",
       "Paolo Rossi             1\n",
       "Gary Lineker            1\n",
       "Salvatore Schillaci     1\n",
       "Hristo Stoichkov        1\n",
       "Davor Šuker             1\n",
       "Ronaldo                 1\n",
       "Miroslav Klose          1\n",
       "Thomas Müller           1\n",
       "James Rodríguez         1\n",
       "Harry Kane              1\n",
       "Kylian Mbappé           1\n",
       "Name: Golden_Boot, dtype: int64"
      ]
     },
     "execution_count": 22,
     "metadata": {},
     "output_type": "execute_result"
    }
   ],
   "source": [
    "df.Golden_Boot.value_counts()"
   ]
  },
  {
   "cell_type": "markdown",
   "id": "573e23e1",
   "metadata": {},
   "source": [
    "#### Nobody has ever gotten golden boot award twice"
   ]
  },
  {
   "cell_type": "markdown",
   "id": "2de33e5b",
   "metadata": {},
   "source": [
    "### 3. Player with Highest Golden Ball Award"
   ]
  },
  {
   "cell_type": "code",
   "execution_count": 23,
   "id": "5f14c65e",
   "metadata": {},
   "outputs": [
    {
     "data": {
      "text/plain": [
       "no_award               12\n",
       "Lionel Messi            2\n",
       "Diego Maradona          1\n",
       "Salvatore Schillaci     1\n",
       "Romário                 1\n",
       "Ronaldo                 1\n",
       "Oliver Kahn             1\n",
       "Zinedine Zidane         1\n",
       "Diego Forlán            1\n",
       "Luka Modrić             1\n",
       "Name: Golden_Ball, dtype: int64"
      ]
     },
     "execution_count": 23,
     "metadata": {},
     "output_type": "execute_result"
    }
   ],
   "source": [
    "df.Golden_Ball.value_counts()"
   ]
  },
  {
   "cell_type": "code",
   "execution_count": 24,
   "id": "692487af",
   "metadata": {},
   "outputs": [],
   "source": [
    "#remove the no_award from the result\n",
    "golden_ball_award = pd.DataFrame(df.Golden_Ball.value_counts())\n",
    "golden_ball_award = golden_ball_award.iloc[1:]"
   ]
  },
  {
   "cell_type": "code",
   "execution_count": 25,
   "id": "9bc142ca",
   "metadata": {},
   "outputs": [
    {
     "data": {
      "text/plain": [
       "Text(0, 0.5, 'Numbers')"
      ]
     },
     "execution_count": 25,
     "metadata": {},
     "output_type": "execute_result"
    },
    {
     "data": {
      "image/png": "[encoded data removed]",
      "text/plain": [
       "<Figure size 720x432 with 1 Axes>"
      ]
     },
     "metadata": {
      "needs_background": "light"
     },
     "output_type": "display_data"
    }
   ],
   "source": [
    "#Bar chart of brands\n",
    "gold_ball = golden_ball_award.plot.bar(figsize=(10,6))\n",
    "for p in gold_ball.patches:\n",
    "    gold_ball.annotate(p.get_height(), (p.get_x() + (p.get_width()/3), p.get_height()+0.02))\n",
    "plt.title(\"Golden Ball Award\");\n",
    "plt.xlabel('Players')\n",
    "plt.ylabel('Numbers')"
   ]
  },
  {
   "cell_type": "markdown",
   "id": "46004b3a",
   "metadata": {},
   "source": [
    "#### `Lionel Mercy` Has The Highest Golden Ball Award"
   ]
  },
  {
   "cell_type": "markdown",
   "id": "732037a7",
   "metadata": {},
   "source": [
    "### 4. Highest Refree that blew in final"
   ]
  },
  {
   "cell_type": "code",
   "execution_count": 26,
   "id": "56f16538",
   "metadata": {},
   "outputs": [
    {
     "data": {
      "text/plain": [
       "John Langenus            1\n",
       "Ivan Eklind              1\n",
       "Néstor Pitana            1\n",
       "Nicola Rizzoli           1\n",
       "Howard Webb              1\n",
       "Horacio Elizondo         1\n",
       "Pierluigi Collina        1\n",
       "Said Belqola             1\n",
       "Sándor Puhl              1\n",
       "Edgardo Codesal          1\n",
       "Romualdo Arppi Filho     1\n",
       "Arnaldo Cézar Coelho     1\n",
       "Sergio Gonella           1\n",
       "Jack Taylor              1\n",
       "Rudi Glöckner            1\n",
       "Gottfried Dienst         1\n",
       "Nikolay Latyshev         1\n",
       "Maurice Guigue           1\n",
       "William Ling             1\n",
       "George Reader            1\n",
       "Georges Capdeville       1\n",
       "Abdulrahman Al-Jassim    1\n",
       "Name: Refree, dtype: int64"
      ]
     },
     "execution_count": 26,
     "metadata": {},
     "output_type": "execute_result"
    }
   ],
   "source": [
    "df.Refree.value_counts()"
   ]
  },
  {
   "cell_type": "markdown",
   "id": "ce6c557b",
   "metadata": {},
   "source": [
    "#### All the refree that blew in final has only blown once"
   ]
  },
  {
   "cell_type": "markdown",
   "id": "95ca2dc0",
   "metadata": {},
   "source": [
    "### 5. Country with highest appearance in Final but didn't get the cup"
   ]
  },
  {
   "cell_type": "code",
   "execution_count": 27,
   "id": "47d0e525",
   "metadata": {},
   "outputs": [
    {
     "data": {
      "text/plain": [
       "Germany           4\n",
       "Argentina         3\n",
       "Netherlands       3\n",
       "Czechoslovakia    2\n",
       "Hungary           2\n",
       "Brazil            2\n",
       "Italy             2\n",
       "France            2\n",
       "Sweden            1\n",
       "Croatia           1\n",
       "Name: Runner_Up, dtype: int64"
      ]
     },
     "execution_count": 27,
     "metadata": {},
     "output_type": "execute_result"
    }
   ],
   "source": [
    "df.Runner_Up.value_counts()"
   ]
  },
  {
   "cell_type": "code",
   "execution_count": 28,
   "id": "4b2dc7ef",
   "metadata": {},
   "outputs": [
    {
     "data": {
      "image/png": "[encoded data removed]",
      "text/plain": [
       "<Figure size 432x288 with 1 Axes>"
      ]
     },
     "metadata": {
      "needs_background": "light"
     },
     "output_type": "display_data"
    }
   ],
   "source": [
    "base_color = sb.color_palette()[0]\n",
    "winning_order = df.Runner_Up.value_counts().index\n",
    "sb.countplot(data=df, x = 'Runner_Up', color=base_color, order=winning_order)\n",
    "plt.title('World Cup Runner Ups')\n",
    "plt.xlabel('Country')\n",
    "plt.ylabel('Numbers')\n",
    "plt.xticks(rotation=90);"
   ]
  },
  {
   "cell_type": "markdown",
   "id": "470be9ee",
   "metadata": {},
   "source": [
    "#### Germany has appeared in World Cup Final 4 times without winning the title, and has also appeard 4 times with wins\n",
    "#### In Total, Germany has appeard in world cup final 8 times, with 4 wins"
   ]
  },
  {
   "cell_type": "code",
   "execution_count": null,
   "id": "24cdfb30",
   "metadata": {},
   "outputs": [],
   "source": []
  }
 ],
 "metadata": {
  "kernelspec": {
   "display_name": "Python 3 (ipykernel)",
   "language": "python",
   "name": "python3"
  },
  "language_info": {
   "codemirror_mode": {
    "name": "ipython",
    "version": 3
   },
   "file_extension": ".py",
   "mimetype": "text/x-python",
   "name": "python",
   "nbconvert_exporter": "python",
   "pygments_lexer": "ipython3",
   "version": "3.9.12"
  }
 },
 "nbformat": 4,
 "nbformat_minor": 5
}
