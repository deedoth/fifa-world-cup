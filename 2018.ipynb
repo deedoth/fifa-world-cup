{
 "cells": [
  {
   "cell_type": "code",
   "execution_count": 1,
   "id": "a8583f7a",
   "metadata": {},
   "outputs": [],
   "source": [
    "import pandas as pd\n",
    "import numpy as np\n",
    "import seaborn as sb\n",
    "import matplotlib.pyplot as plt\n",
    "%matplotlib inline\n",
    "\n",
    "import requests"
   ]
  },
  {
   "cell_type": "code",
   "execution_count": 2,
   "id": "5e7f644f",
   "metadata": {},
   "outputs": [],
   "source": [
    "from bs4 import BeautifulSoup"
   ]
  },
  {
   "cell_type": "code",
   "execution_count": 3,
   "id": "7394e3da",
   "metadata": {},
   "outputs": [],
   "source": [
    "web = 'https://en.wikipedia.org/wiki/2018_FIFA_World_Cup'"
   ]
  },
  {
   "cell_type": "code",
   "execution_count": 4,
   "id": "1e3fb425",
   "metadata": {},
   "outputs": [],
   "source": [
    "response = requests.get(web)"
   ]
  },
  {
   "cell_type": "code",
   "execution_count": 5,
   "id": "3c629f34",
   "metadata": {},
   "outputs": [],
   "source": [
    "content = response.text"
   ]
  },
  {
   "cell_type": "code",
   "execution_count": 6,
   "id": "679b4a68",
   "metadata": {},
   "outputs": [],
   "source": [
    "soup = BeautifulSoup(content, 'lxml')"
   ]
  },
  {
   "cell_type": "code",
   "execution_count": 7,
   "id": "2ec054da",
   "metadata": {},
   "outputs": [],
   "source": [
    "table = soup.find('tr', {'style':'background-color:gold;'})"
   ]
  },
  {
   "cell_type": "code",
   "execution_count": 8,
   "id": "a385a7bc",
   "metadata": {},
   "outputs": [],
   "source": [
    "#sn = table.find('td')\n",
    "team_ = soup.find('a', {'title':'France national football team'})\n",
    "team = team_.text\n",
    "#group_ = team_.find_next_sibling('td')\n",
    "group = 'C'\n",
    "#total_game_played_ = group_.find_next_sibling('td')\n",
    "total_game_played = np.nan\n",
    "win = np.nan\n",
    "draw = np.nan\n",
    "loss = np.nan\n",
    "points = np.nan\n",
    "total_goals_scored = np.nan\n",
    "total_goals_conceded = np.nan\n",
    "goal_diff = np.nan"
   ]
  },
  {
   "cell_type": "markdown",
   "id": "8565de05",
   "metadata": {},
   "source": [
    "### Runner Up Team"
   ]
  },
  {
   "cell_type": "code",
   "execution_count": 9,
   "id": "6e39cde9",
   "metadata": {},
   "outputs": [
    {
     "data": {
      "text/plain": [
       "'Croatia'"
      ]
     },
     "execution_count": 9,
     "metadata": {},
     "output_type": "execute_result"
    }
   ],
   "source": [
    "runner_up = soup.find('a', {'title':'Croatia national football team'}).text\n",
    "runner_up"
   ]
  },
  {
   "cell_type": "markdown",
   "id": "4a24c4ff",
   "metadata": {},
   "source": [
    "### Awards"
   ]
  },
  {
   "cell_type": "code",
   "execution_count": 10,
   "id": "5a929fdb",
   "metadata": {},
   "outputs": [],
   "source": [
    "golden_ball = soup.find('a', attrs= {'title': 'Luka Modrić'}).text\n",
    "#golden_ball = 'Ronaldo'\n",
    "golden_boot = soup.find('a', attrs= {'title': 'Harry Kane'}).text\n",
    "#golden_boot = np.nan\n",
    "golden_glove = soup.find('a', attrs= {'title': 'Thibaut Courtois'}).text\n",
    "#golden_glove = np.nan"
   ]
  },
  {
   "cell_type": "markdown",
   "id": "9c4c29d5",
   "metadata": {},
   "source": [
    "### Refree That Blew Final"
   ]
  },
  {
   "cell_type": "code",
   "execution_count": 11,
   "id": "64f13ca6",
   "metadata": {},
   "outputs": [
    {
     "data": {
      "text/plain": [
       "'Néstor Pitana'"
      ]
     },
     "execution_count": 11,
     "metadata": {},
     "output_type": "execute_result"
    }
   ],
   "source": [
    "refree = soup.find('a', attrs= {'title': 'Néstor Pitana'}).text\n",
    "#refree = 'Jack Taylor'\n",
    "refree"
   ]
  },
  {
   "cell_type": "markdown",
   "id": "94388b87",
   "metadata": {},
   "source": [
    "### Year"
   ]
  },
  {
   "cell_type": "code",
   "execution_count": 12,
   "id": "4539f5fb",
   "metadata": {},
   "outputs": [
    {
     "data": {
      "text/plain": [
       "'2018'"
      ]
     },
     "execution_count": 12,
     "metadata": {},
     "output_type": "execute_result"
    }
   ],
   "source": [
    "year = soup.find('span', {'class':\"mw-page-title-main\"}).text\n",
    "year = year[:4]\n",
    "year"
   ]
  },
  {
   "cell_type": "markdown",
   "id": "cd07b96e",
   "metadata": {},
   "source": [
    "### Host Country"
   ]
  },
  {
   "cell_type": "code",
   "execution_count": 13,
   "id": "5d89247c",
   "metadata": {},
   "outputs": [
    {
     "data": {
      "text/plain": [
       "'Russia'"
      ]
     },
     "execution_count": 13,
     "metadata": {},
     "output_type": "execute_result"
    }
   ],
   "source": [
    "#host = soup.find('a', {'title':\"Uruguay national football team\"}).text\n",
    "host = 'Russia'\n",
    "host"
   ]
  },
  {
   "cell_type": "markdown",
   "id": "965a0f2a",
   "metadata": {},
   "source": [
    "### Prize"
   ]
  },
  {
   "cell_type": "code",
   "execution_count": 14,
   "id": "4e8d37f0",
   "metadata": {},
   "outputs": [
    {
     "data": {
      "text/plain": [
       "38000000"
      ]
     },
     "execution_count": 14,
     "metadata": {},
     "output_type": "execute_result"
    }
   ],
   "source": [
    "prize = 38000000\n",
    "prize"
   ]
  },
  {
   "cell_type": "markdown",
   "id": "63cdd046",
   "metadata": {},
   "source": [
    "### Attendance"
   ]
  },
  {
   "cell_type": "code",
   "execution_count": 15,
   "id": "b92dcae5",
   "metadata": {},
   "outputs": [],
   "source": [
    "Attendance = 78011"
   ]
  },
  {
   "cell_type": "code",
   "execution_count": 16,
   "id": "08be46b7",
   "metadata": {},
   "outputs": [
    {
     "data": {
      "text/html": [
       "<div>\n",
       "<style scoped>\n",
       "    .dataframe tbody tr th:only-of-type {\n",
       "        vertical-align: middle;\n",
       "    }\n",
       "\n",
       "    .dataframe tbody tr th {\n",
       "        vertical-align: top;\n",
       "    }\n",
       "\n",
       "    .dataframe thead th {\n",
       "        text-align: right;\n",
       "    }\n",
       "</style>\n",
       "<table border=\"1\" class=\"dataframe\">\n",
       "  <thead>\n",
       "    <tr style=\"text-align: right;\">\n",
       "      <th></th>\n",
       "      <th>Team</th>\n",
       "      <th>G</th>\n",
       "      <th>Pld</th>\n",
       "      <th>W</th>\n",
       "      <th>D</th>\n",
       "      <th>L</th>\n",
       "      <th>Pts</th>\n",
       "      <th>GF</th>\n",
       "      <th>GA</th>\n",
       "      <th>GD</th>\n",
       "      <th>Golden Ball</th>\n",
       "      <th>Golden Boot</th>\n",
       "      <th>Golden Glove</th>\n",
       "      <th>Prize</th>\n",
       "      <th>Year</th>\n",
       "      <th>Refree</th>\n",
       "      <th>Host</th>\n",
       "      <th>Runner_up</th>\n",
       "      <th>Attendance</th>\n",
       "    </tr>\n",
       "  </thead>\n",
       "  <tbody>\n",
       "    <tr>\n",
       "      <th>0</th>\n",
       "      <td>France</td>\n",
       "      <td>C</td>\n",
       "      <td>NaN</td>\n",
       "      <td>NaN</td>\n",
       "      <td>NaN</td>\n",
       "      <td>NaN</td>\n",
       "      <td>NaN</td>\n",
       "      <td>NaN</td>\n",
       "      <td>NaN</td>\n",
       "      <td>NaN</td>\n",
       "      <td>Luka Modrić</td>\n",
       "      <td>Harry Kane</td>\n",
       "      <td>Thibaut Courtois</td>\n",
       "      <td>38000000</td>\n",
       "      <td>2018</td>\n",
       "      <td>Néstor Pitana</td>\n",
       "      <td>Russia</td>\n",
       "      <td>Croatia</td>\n",
       "      <td>78011</td>\n",
       "    </tr>\n",
       "  </tbody>\n",
       "</table>\n",
       "</div>"
      ],
      "text/plain": [
       "     Team  G  Pld   W   D   L  Pts  GF  GA  GD  Golden Ball Golden Boot  \\\n",
       "0  France  C  NaN NaN NaN NaN  NaN NaN NaN NaN  Luka Modrić  Harry Kane   \n",
       "\n",
       "       Golden Glove     Prize  Year         Refree    Host Runner_up  \\\n",
       "0  Thibaut Courtois  38000000  2018  Néstor Pitana  Russia   Croatia   \n",
       "\n",
       "   Attendance  \n",
       "0       78011  "
      ]
     },
     "execution_count": 16,
     "metadata": {},
     "output_type": "execute_result"
    }
   ],
   "source": [
    "winner = {'Team': team, 'G':group, 'Pld':total_game_played, 'W':win, 'D':draw, 'L':loss, 'Pts':points, \n",
    "            'GF':total_goals_scored, 'GA':total_goals_conceded, 'GD':goal_diff, 'Golden Ball': golden_ball, \n",
    "            'Golden Boot':golden_boot, 'Golden Glove':golden_glove, 'Prize': prize, 'Year': year, 'Refree':refree, \n",
    "          'Host': host, 'Runner_up':runner_up, 'Attendance':Attendance}\n",
    "\n",
    "df_winner = pd.DataFrame(winner, index=[0])\n",
    "df_winner"
   ]
  },
  {
   "cell_type": "code",
   "execution_count": 17,
   "id": "5b8b8807",
   "metadata": {},
   "outputs": [],
   "source": [
    "df_winner.to_csv('data/2018.csv', index = False)"
   ]
  }
 ],
 "metadata": {
  "kernelspec": {
   "display_name": "Python 3 (ipykernel)",
   "language": "python",
   "name": "python3"
  },
  "language_info": {
   "codemirror_mode": {
    "name": "ipython",
    "version": 3
   },
   "file_extension": ".py",
   "mimetype": "text/x-python",
   "name": "python",
   "nbconvert_exporter": "python",
   "pygments_lexer": "ipython3",
   "version": "3.9.12"
  }
 },
 "nbformat": 4,
 "nbformat_minor": 5
}
